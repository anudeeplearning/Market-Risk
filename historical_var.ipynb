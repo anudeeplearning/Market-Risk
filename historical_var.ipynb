{
  "nbformat": 4,
  "nbformat_minor": 0,
  "metadata": {
    "colab": {
      "name": "historical_var.ipynb",
      "provenance": [],
      "authorship_tag": "ABX9TyNMKmG8HFmNKmfQUCe9pWlM",
      "include_colab_link": true
    },
    "kernelspec": {
      "name": "python3",
      "display_name": "Python 3"
    },
    "language_info": {
      "name": "python"
    }
  },
  "cells": [
    {
      "cell_type": "markdown",
      "metadata": {
        "id": "view-in-github",
        "colab_type": "text"
      },
      "source": [
        "<a href=\"https://colab.research.google.com/github/anudeeplearning/Market-Risk/blob/main/historical_var.ipynb\" target=\"_parent\"><img src=\"https://colab.research.google.com/assets/colab-badge.svg\" alt=\"Open In Colab\"/></a>"
      ]
    },
    {
      "cell_type": "markdown",
      "source": [
        "We calculate the VaR using the historical var method. This is a non-parametric method."
      ],
      "metadata": {
        "id": "KT9hmFCXt6e7"
      }
    },
    {
      "cell_type": "code",
      "execution_count": null,
      "metadata": {
        "colab": {
          "base_uri": "https://localhost:8080/"
        },
        "id": "y-7tBKp9t3Id",
        "outputId": "5e0b7b89-3f8b-491a-9a04-8213d924f5aa"
      },
      "outputs": [
        {
          "output_type": "stream",
          "name": "stdout",
          "text": [
            "Looking in indexes: https://pypi.org/simple, https://us-python.pkg.dev/colab-wheels/public/simple/\n",
            "Collecting yfinance\n",
            "  Downloading yfinance-0.1.70-py2.py3-none-any.whl (26 kB)\n",
            "Requirement already satisfied: multitasking>=0.0.7 in /usr/local/lib/python3.7/dist-packages (from yfinance) (0.0.10)\n",
            "Collecting requests>=2.26\n",
            "  Downloading requests-2.27.1-py2.py3-none-any.whl (63 kB)\n",
            "\u001b[K     |████████████████████████████████| 63 kB 1.1 MB/s \n",
            "\u001b[?25hRequirement already satisfied: numpy>=1.15 in /usr/local/lib/python3.7/dist-packages (from yfinance) (1.21.6)\n",
            "Requirement already satisfied: pandas>=0.24.0 in /usr/local/lib/python3.7/dist-packages (from yfinance) (1.3.5)\n",
            "Collecting lxml>=4.5.1\n",
            "  Downloading lxml-4.9.0-cp37-cp37m-manylinux_2_17_x86_64.manylinux2014_x86_64.manylinux_2_24_x86_64.whl (6.4 MB)\n",
            "\u001b[K     |████████████████████████████████| 6.4 MB 36.6 MB/s \n",
            "\u001b[?25hRequirement already satisfied: pytz>=2017.3 in /usr/local/lib/python3.7/dist-packages (from pandas>=0.24.0->yfinance) (2022.1)\n",
            "Requirement already satisfied: python-dateutil>=2.7.3 in /usr/local/lib/python3.7/dist-packages (from pandas>=0.24.0->yfinance) (2.8.2)\n",
            "Requirement already satisfied: six>=1.5 in /usr/local/lib/python3.7/dist-packages (from python-dateutil>=2.7.3->pandas>=0.24.0->yfinance) (1.15.0)\n",
            "Requirement already satisfied: certifi>=2017.4.17 in /usr/local/lib/python3.7/dist-packages (from requests>=2.26->yfinance) (2022.5.18.1)\n",
            "Requirement already satisfied: charset-normalizer~=2.0.0 in /usr/local/lib/python3.7/dist-packages (from requests>=2.26->yfinance) (2.0.12)\n",
            "Requirement already satisfied: urllib3<1.27,>=1.21.1 in /usr/local/lib/python3.7/dist-packages (from requests>=2.26->yfinance) (1.24.3)\n",
            "Requirement already satisfied: idna<4,>=2.5 in /usr/local/lib/python3.7/dist-packages (from requests>=2.26->yfinance) (2.10)\n",
            "Installing collected packages: requests, lxml, yfinance\n",
            "  Attempting uninstall: requests\n",
            "    Found existing installation: requests 2.23.0\n",
            "    Uninstalling requests-2.23.0:\n",
            "      Successfully uninstalled requests-2.23.0\n",
            "  Attempting uninstall: lxml\n",
            "    Found existing installation: lxml 4.2.6\n",
            "    Uninstalling lxml-4.2.6:\n",
            "      Successfully uninstalled lxml-4.2.6\n",
            "\u001b[31mERROR: pip's dependency resolver does not currently take into account all the packages that are installed. This behaviour is the source of the following dependency conflicts.\n",
            "google-colab 1.0.0 requires requests~=2.23.0, but you have requests 2.27.1 which is incompatible.\n",
            "datascience 0.10.6 requires folium==0.2.1, but you have folium 0.8.3 which is incompatible.\u001b[0m\n",
            "Successfully installed lxml-4.9.0 requests-2.27.1 yfinance-0.1.70\n"
          ]
        }
      ],
      "source": [
        "pip install yfinance"
      ]
    },
    {
      "cell_type": "code",
      "source": [
        "import yfinance as yf, numpy as np, pandas as pd, datetime as dt, matplotlib.pyplot as plt, scipy.stats as scs\n",
        "from scipy.stats import norm"
      ],
      "metadata": {
        "id": "1B0j4t8awlT4"
      },
      "execution_count": null,
      "outputs": []
    },
    {
      "cell_type": "code",
      "source": [
        "tickers = ['AAPL', 'FB', 'C','DIS','F','MSFT','MS','GME','TSLA','AMZN']\n",
        "weights = np.array(10*[0.1])"
      ],
      "metadata": {
        "id": "QS7B3ZgLwz9Q"
      },
      "execution_count": null,
      "outputs": []
    },
    {
      "cell_type": "code",
      "source": [
        "start = dt.datetime(2019,1,1)\n",
        "end=dt.datetime.now()\n",
        "\n",
        "df=yf.download(tickers,start,end)['Adj Close']\n",
        "df"
      ],
      "metadata": {
        "id": "JrbeFFGVwwcE"
      },
      "execution_count": null,
      "outputs": []
    },
    {
      "cell_type": "code",
      "source": [
        "returns = df.pct_change()"
      ],
      "metadata": {
        "id": "5WLPrvGFw5Sz"
      },
      "execution_count": null,
      "outputs": []
    },
    {
      "cell_type": "code",
      "source": [
        "returns"
      ],
      "metadata": {
        "colab": {
          "base_uri": "https://localhost:8080/",
          "height": 450
        },
        "id": "Kyhw3ShvzO_h",
        "outputId": "edd53adc-ff04-426d-f075-bbd74092258f"
      },
      "execution_count": null,
      "outputs": [
        {
          "output_type": "execute_result",
          "data": {
            "text/plain": [
              "                AAPL      AMZN         C       DIS         F        FB  \\\n",
              "Date                                                                     \n",
              "2019-01-02       NaN       NaN       NaN       NaN       NaN       NaN   \n",
              "2019-01-03 -0.099607 -0.025242 -0.018121 -0.024227 -0.015190 -0.029039   \n",
              "2019-01-04  0.042689  0.050064  0.048897  0.030847  0.038560  0.047138   \n",
              "2019-01-07 -0.002226  0.034353  0.008706  0.008667  0.025990  0.000725   \n",
              "2019-01-08  0.019063  0.016612 -0.002697  0.007779  0.009650  0.032452   \n",
              "...              ...       ...       ...       ...       ...       ...   \n",
              "2022-05-26  0.023200  0.040295  0.026376  0.022758  0.032258  0.042431   \n",
              "2022-05-27  0.040757  0.036632 -0.008689  0.035129  0.038872  0.018264   \n",
              "2022-05-31 -0.005346  0.043970 -0.003916  0.010245  0.003668 -0.007636   \n",
              "2022-06-01 -0.000873  0.012266 -0.019098 -0.011318 -0.009503 -0.025821   \n",
              "2022-06-02  0.016811  0.031450  0.000764  0.015386  0.025092  0.054177   \n",
              "\n",
              "                 GME        MS      MSFT      TSLA  \n",
              "Date                                                \n",
              "2019-01-02       NaN       NaN       NaN       NaN  \n",
              "2019-01-03 -0.007651 -0.017822 -0.036788 -0.031472  \n",
              "2019-01-04  0.175019  0.040827  0.046509  0.057697  \n",
              "2019-01-07  0.015748  0.009927  0.001275  0.054361  \n",
              "2019-01-08  0.021318 -0.006233  0.007251  0.001164  \n",
              "...              ...       ...       ...       ...  \n",
              "2022-05-26  0.115395  0.033686  0.012875  0.074271  \n",
              "2022-05-27  0.068115  0.017059  0.027604  0.073333  \n",
              "2022-05-31 -0.090883 -0.003586 -0.005014 -0.001804  \n",
              "2022-06-01 -0.026776 -0.013234  0.002023 -0.023594  \n",
              "2022-06-02  0.103789  0.002353  0.007929  0.046774  \n",
              "\n",
              "[862 rows x 10 columns]"
            ],
            "text/html": [
              "\n",
              "  <div id=\"df-386e4a69-e838-4db5-8592-16f940e275c6\">\n",
              "    <div class=\"colab-df-container\">\n",
              "      <div>\n",
              "<style scoped>\n",
              "    .dataframe tbody tr th:only-of-type {\n",
              "        vertical-align: middle;\n",
              "    }\n",
              "\n",
              "    .dataframe tbody tr th {\n",
              "        vertical-align: top;\n",
              "    }\n",
              "\n",
              "    .dataframe thead th {\n",
              "        text-align: right;\n",
              "    }\n",
              "</style>\n",
              "<table border=\"1\" class=\"dataframe\">\n",
              "  <thead>\n",
              "    <tr style=\"text-align: right;\">\n",
              "      <th></th>\n",
              "      <th>AAPL</th>\n",
              "      <th>AMZN</th>\n",
              "      <th>C</th>\n",
              "      <th>DIS</th>\n",
              "      <th>F</th>\n",
              "      <th>FB</th>\n",
              "      <th>GME</th>\n",
              "      <th>MS</th>\n",
              "      <th>MSFT</th>\n",
              "      <th>TSLA</th>\n",
              "    </tr>\n",
              "    <tr>\n",
              "      <th>Date</th>\n",
              "      <th></th>\n",
              "      <th></th>\n",
              "      <th></th>\n",
              "      <th></th>\n",
              "      <th></th>\n",
              "      <th></th>\n",
              "      <th></th>\n",
              "      <th></th>\n",
              "      <th></th>\n",
              "      <th></th>\n",
              "    </tr>\n",
              "  </thead>\n",
              "  <tbody>\n",
              "    <tr>\n",
              "      <th>2019-01-02</th>\n",
              "      <td>NaN</td>\n",
              "      <td>NaN</td>\n",
              "      <td>NaN</td>\n",
              "      <td>NaN</td>\n",
              "      <td>NaN</td>\n",
              "      <td>NaN</td>\n",
              "      <td>NaN</td>\n",
              "      <td>NaN</td>\n",
              "      <td>NaN</td>\n",
              "      <td>NaN</td>\n",
              "    </tr>\n",
              "    <tr>\n",
              "      <th>2019-01-03</th>\n",
              "      <td>-0.099607</td>\n",
              "      <td>-0.025242</td>\n",
              "      <td>-0.018121</td>\n",
              "      <td>-0.024227</td>\n",
              "      <td>-0.015190</td>\n",
              "      <td>-0.029039</td>\n",
              "      <td>-0.007651</td>\n",
              "      <td>-0.017822</td>\n",
              "      <td>-0.036788</td>\n",
              "      <td>-0.031472</td>\n",
              "    </tr>\n",
              "    <tr>\n",
              "      <th>2019-01-04</th>\n",
              "      <td>0.042689</td>\n",
              "      <td>0.050064</td>\n",
              "      <td>0.048897</td>\n",
              "      <td>0.030847</td>\n",
              "      <td>0.038560</td>\n",
              "      <td>0.047138</td>\n",
              "      <td>0.175019</td>\n",
              "      <td>0.040827</td>\n",
              "      <td>0.046509</td>\n",
              "      <td>0.057697</td>\n",
              "    </tr>\n",
              "    <tr>\n",
              "      <th>2019-01-07</th>\n",
              "      <td>-0.002226</td>\n",
              "      <td>0.034353</td>\n",
              "      <td>0.008706</td>\n",
              "      <td>0.008667</td>\n",
              "      <td>0.025990</td>\n",
              "      <td>0.000725</td>\n",
              "      <td>0.015748</td>\n",
              "      <td>0.009927</td>\n",
              "      <td>0.001275</td>\n",
              "      <td>0.054361</td>\n",
              "    </tr>\n",
              "    <tr>\n",
              "      <th>2019-01-08</th>\n",
              "      <td>0.019063</td>\n",
              "      <td>0.016612</td>\n",
              "      <td>-0.002697</td>\n",
              "      <td>0.007779</td>\n",
              "      <td>0.009650</td>\n",
              "      <td>0.032452</td>\n",
              "      <td>0.021318</td>\n",
              "      <td>-0.006233</td>\n",
              "      <td>0.007251</td>\n",
              "      <td>0.001164</td>\n",
              "    </tr>\n",
              "    <tr>\n",
              "      <th>...</th>\n",
              "      <td>...</td>\n",
              "      <td>...</td>\n",
              "      <td>...</td>\n",
              "      <td>...</td>\n",
              "      <td>...</td>\n",
              "      <td>...</td>\n",
              "      <td>...</td>\n",
              "      <td>...</td>\n",
              "      <td>...</td>\n",
              "      <td>...</td>\n",
              "    </tr>\n",
              "    <tr>\n",
              "      <th>2022-05-26</th>\n",
              "      <td>0.023200</td>\n",
              "      <td>0.040295</td>\n",
              "      <td>0.026376</td>\n",
              "      <td>0.022758</td>\n",
              "      <td>0.032258</td>\n",
              "      <td>0.042431</td>\n",
              "      <td>0.115395</td>\n",
              "      <td>0.033686</td>\n",
              "      <td>0.012875</td>\n",
              "      <td>0.074271</td>\n",
              "    </tr>\n",
              "    <tr>\n",
              "      <th>2022-05-27</th>\n",
              "      <td>0.040757</td>\n",
              "      <td>0.036632</td>\n",
              "      <td>-0.008689</td>\n",
              "      <td>0.035129</td>\n",
              "      <td>0.038872</td>\n",
              "      <td>0.018264</td>\n",
              "      <td>0.068115</td>\n",
              "      <td>0.017059</td>\n",
              "      <td>0.027604</td>\n",
              "      <td>0.073333</td>\n",
              "    </tr>\n",
              "    <tr>\n",
              "      <th>2022-05-31</th>\n",
              "      <td>-0.005346</td>\n",
              "      <td>0.043970</td>\n",
              "      <td>-0.003916</td>\n",
              "      <td>0.010245</td>\n",
              "      <td>0.003668</td>\n",
              "      <td>-0.007636</td>\n",
              "      <td>-0.090883</td>\n",
              "      <td>-0.003586</td>\n",
              "      <td>-0.005014</td>\n",
              "      <td>-0.001804</td>\n",
              "    </tr>\n",
              "    <tr>\n",
              "      <th>2022-06-01</th>\n",
              "      <td>-0.000873</td>\n",
              "      <td>0.012266</td>\n",
              "      <td>-0.019098</td>\n",
              "      <td>-0.011318</td>\n",
              "      <td>-0.009503</td>\n",
              "      <td>-0.025821</td>\n",
              "      <td>-0.026776</td>\n",
              "      <td>-0.013234</td>\n",
              "      <td>0.002023</td>\n",
              "      <td>-0.023594</td>\n",
              "    </tr>\n",
              "    <tr>\n",
              "      <th>2022-06-02</th>\n",
              "      <td>0.016811</td>\n",
              "      <td>0.031450</td>\n",
              "      <td>0.000764</td>\n",
              "      <td>0.015386</td>\n",
              "      <td>0.025092</td>\n",
              "      <td>0.054177</td>\n",
              "      <td>0.103789</td>\n",
              "      <td>0.002353</td>\n",
              "      <td>0.007929</td>\n",
              "      <td>0.046774</td>\n",
              "    </tr>\n",
              "  </tbody>\n",
              "</table>\n",
              "<p>862 rows × 10 columns</p>\n",
              "</div>\n",
              "      <button class=\"colab-df-convert\" onclick=\"convertToInteractive('df-386e4a69-e838-4db5-8592-16f940e275c6')\"\n",
              "              title=\"Convert this dataframe to an interactive table.\"\n",
              "              style=\"display:none;\">\n",
              "        \n",
              "  <svg xmlns=\"http://www.w3.org/2000/svg\" height=\"24px\"viewBox=\"0 0 24 24\"\n",
              "       width=\"24px\">\n",
              "    <path d=\"M0 0h24v24H0V0z\" fill=\"none\"/>\n",
              "    <path d=\"M18.56 5.44l.94 2.06.94-2.06 2.06-.94-2.06-.94-.94-2.06-.94 2.06-2.06.94zm-11 1L8.5 8.5l.94-2.06 2.06-.94-2.06-.94L8.5 2.5l-.94 2.06-2.06.94zm10 10l.94 2.06.94-2.06 2.06-.94-2.06-.94-.94-2.06-.94 2.06-2.06.94z\"/><path d=\"M17.41 7.96l-1.37-1.37c-.4-.4-.92-.59-1.43-.59-.52 0-1.04.2-1.43.59L10.3 9.45l-7.72 7.72c-.78.78-.78 2.05 0 2.83L4 21.41c.39.39.9.59 1.41.59.51 0 1.02-.2 1.41-.59l7.78-7.78 2.81-2.81c.8-.78.8-2.07 0-2.86zM5.41 20L4 18.59l7.72-7.72 1.47 1.35L5.41 20z\"/>\n",
              "  </svg>\n",
              "      </button>\n",
              "      \n",
              "  <style>\n",
              "    .colab-df-container {\n",
              "      display:flex;\n",
              "      flex-wrap:wrap;\n",
              "      gap: 12px;\n",
              "    }\n",
              "\n",
              "    .colab-df-convert {\n",
              "      background-color: #E8F0FE;\n",
              "      border: none;\n",
              "      border-radius: 50%;\n",
              "      cursor: pointer;\n",
              "      display: none;\n",
              "      fill: #1967D2;\n",
              "      height: 32px;\n",
              "      padding: 0 0 0 0;\n",
              "      width: 32px;\n",
              "    }\n",
              "\n",
              "    .colab-df-convert:hover {\n",
              "      background-color: #E2EBFA;\n",
              "      box-shadow: 0px 1px 2px rgba(60, 64, 67, 0.3), 0px 1px 3px 1px rgba(60, 64, 67, 0.15);\n",
              "      fill: #174EA6;\n",
              "    }\n",
              "\n",
              "    [theme=dark] .colab-df-convert {\n",
              "      background-color: #3B4455;\n",
              "      fill: #D2E3FC;\n",
              "    }\n",
              "\n",
              "    [theme=dark] .colab-df-convert:hover {\n",
              "      background-color: #434B5C;\n",
              "      box-shadow: 0px 1px 3px 1px rgba(0, 0, 0, 0.15);\n",
              "      filter: drop-shadow(0px 1px 2px rgba(0, 0, 0, 0.3));\n",
              "      fill: #FFFFFF;\n",
              "    }\n",
              "  </style>\n",
              "\n",
              "      <script>\n",
              "        const buttonEl =\n",
              "          document.querySelector('#df-386e4a69-e838-4db5-8592-16f940e275c6 button.colab-df-convert');\n",
              "        buttonEl.style.display =\n",
              "          google.colab.kernel.accessAllowed ? 'block' : 'none';\n",
              "\n",
              "        async function convertToInteractive(key) {\n",
              "          const element = document.querySelector('#df-386e4a69-e838-4db5-8592-16f940e275c6');\n",
              "          const dataTable =\n",
              "            await google.colab.kernel.invokeFunction('convertToInteractive',\n",
              "                                                     [key], {});\n",
              "          if (!dataTable) return;\n",
              "\n",
              "          const docLinkHtml = 'Like what you see? Visit the ' +\n",
              "            '<a target=\"_blank\" href=https://colab.research.google.com/notebooks/data_table.ipynb>data table notebook</a>'\n",
              "            + ' to learn more about interactive tables.';\n",
              "          element.innerHTML = '';\n",
              "          dataTable['output_type'] = 'display_data';\n",
              "          await google.colab.output.renderOutput(dataTable, element);\n",
              "          const docLink = document.createElement('div');\n",
              "          docLink.innerHTML = docLinkHtml;\n",
              "          element.appendChild(docLink);\n",
              "        }\n",
              "      </script>\n",
              "    </div>\n",
              "  </div>\n",
              "  "
            ]
          },
          "metadata": {},
          "execution_count": 13
        }
      ]
    },
    {
      "cell_type": "code",
      "source": [
        "portfolio_returns = returns @ weights"
      ],
      "metadata": {
        "id": "k2zMgyobyPdD"
      },
      "execution_count": null,
      "outputs": []
    },
    {
      "cell_type": "code",
      "source": [
        "portfolio_returns"
      ],
      "metadata": {
        "colab": {
          "base_uri": "https://localhost:8080/"
        },
        "id": "k0R2X3-PHJqv",
        "outputId": "fcd108b4-ff55-4d1b-9a43-a0c2f7888c30"
      },
      "execution_count": null,
      "outputs": [
        {
          "output_type": "execute_result",
          "data": {
            "text/plain": [
              "Date\n",
              "2019-01-02         NaN\n",
              "2019-01-03   -0.030516\n",
              "2019-01-04    0.057825\n",
              "2019-01-07    0.015753\n",
              "2019-01-08    0.010636\n",
              "                ...   \n",
              "2022-05-26    0.042354\n",
              "2022-05-27    0.034708\n",
              "2022-05-31   -0.006030\n",
              "2022-06-01   -0.011593\n",
              "2022-06-02    0.030453\n",
              "Length: 862, dtype: float64"
            ]
          },
          "metadata": {},
          "execution_count": 69
        }
      ]
    },
    {
      "cell_type": "code",
      "source": [
        "x=portfolio_returns.sort_values()"
      ],
      "metadata": {
        "id": "jyIlfuw73QNx"
      },
      "execution_count": null,
      "outputs": []
    },
    {
      "cell_type": "code",
      "source": [
        "x"
      ],
      "metadata": {
        "colab": {
          "base_uri": "https://localhost:8080/"
        },
        "id": "OdAODQZy47eE",
        "outputId": "fe698246-e681-4104-efc7-ca4414cceec6"
      },
      "execution_count": null,
      "outputs": [
        {
          "output_type": "execute_result",
          "data": {
            "text/plain": [
              "Date\n",
              "2020-03-16   -0.123834\n",
              "2020-03-12   -0.104239\n",
              "2020-03-09   -0.090666\n",
              "2020-06-11   -0.077275\n",
              "2020-03-18   -0.067712\n",
              "                ...   \n",
              "2020-03-13    0.110392\n",
              "2021-01-27    0.112020\n",
              "2021-02-24    0.120245\n",
              "2020-03-24    0.127444\n",
              "2019-01-02         NaN\n",
              "Length: 862, dtype: float64"
            ]
          },
          "metadata": {},
          "execution_count": 42
        }
      ]
    },
    {
      "cell_type": "code",
      "source": [
        "import scipy.stats as scs"
      ],
      "metadata": {
        "id": "H4TcARfJ0yNi"
      },
      "execution_count": null,
      "outputs": []
    },
    {
      "cell_type": "code",
      "source": [
        "confidence_intervals = [0.01,0.1,1.0,2.5,5.0,10.0]\n",
        "var = [x[int(i*len(x)//100)] for i in confidence_intervals]"
      ],
      "metadata": {
        "id": "2S0GsFwf0ivr"
      },
      "execution_count": null,
      "outputs": []
    },
    {
      "cell_type": "code",
      "source": [
        "var"
      ],
      "metadata": {
        "colab": {
          "base_uri": "https://localhost:8080/"
        },
        "id": "plO2uDRS1MNV",
        "outputId": "0a9dd8eb-b034-4a44-a98a-302308a0a73d"
      },
      "execution_count": null,
      "outputs": [
        {
          "output_type": "execute_result",
          "data": {
            "text/plain": [
              "[-0.12383374290763866,\n",
              " -0.12383374290763866,\n",
              " -0.05225999541938922,\n",
              " -0.04185644807148391,\n",
              " -0.03137489863023041,\n",
              " -0.02065239856469193]"
            ]
          },
          "metadata": {},
          "execution_count": 41
        }
      ]
    },
    {
      "cell_type": "code",
      "source": [
        "df = pd.DataFrame(var, confidence_intervals,columns = ['VaR'])\n",
        "df"
      ],
      "metadata": {
        "colab": {
          "base_uri": "https://localhost:8080/",
          "height": 235
        },
        "id": "ZzO7TLhU1blu",
        "outputId": "c59019fc-3551-4b10-a28d-e3a2326131e0"
      },
      "execution_count": null,
      "outputs": [
        {
          "output_type": "execute_result",
          "data": {
            "text/plain": [
              "            VaR\n",
              "0.01  -0.122147\n",
              "0.10  -0.106963\n",
              "1.00  -0.052127\n",
              "2.50  -0.041534\n",
              "5.00  -0.031352\n",
              "10.00 -0.020637"
            ],
            "text/html": [
              "\n",
              "  <div id=\"df-9e9ed935-36d2-49c9-943d-c799f1007a93\">\n",
              "    <div class=\"colab-df-container\">\n",
              "      <div>\n",
              "<style scoped>\n",
              "    .dataframe tbody tr th:only-of-type {\n",
              "        vertical-align: middle;\n",
              "    }\n",
              "\n",
              "    .dataframe tbody tr th {\n",
              "        vertical-align: top;\n",
              "    }\n",
              "\n",
              "    .dataframe thead th {\n",
              "        text-align: right;\n",
              "    }\n",
              "</style>\n",
              "<table border=\"1\" class=\"dataframe\">\n",
              "  <thead>\n",
              "    <tr style=\"text-align: right;\">\n",
              "      <th></th>\n",
              "      <th>VaR</th>\n",
              "    </tr>\n",
              "  </thead>\n",
              "  <tbody>\n",
              "    <tr>\n",
              "      <th>0.01</th>\n",
              "      <td>-0.122147</td>\n",
              "    </tr>\n",
              "    <tr>\n",
              "      <th>0.10</th>\n",
              "      <td>-0.106963</td>\n",
              "    </tr>\n",
              "    <tr>\n",
              "      <th>1.00</th>\n",
              "      <td>-0.052127</td>\n",
              "    </tr>\n",
              "    <tr>\n",
              "      <th>2.50</th>\n",
              "      <td>-0.041534</td>\n",
              "    </tr>\n",
              "    <tr>\n",
              "      <th>5.00</th>\n",
              "      <td>-0.031352</td>\n",
              "    </tr>\n",
              "    <tr>\n",
              "      <th>10.00</th>\n",
              "      <td>-0.020637</td>\n",
              "    </tr>\n",
              "  </tbody>\n",
              "</table>\n",
              "</div>\n",
              "      <button class=\"colab-df-convert\" onclick=\"convertToInteractive('df-9e9ed935-36d2-49c9-943d-c799f1007a93')\"\n",
              "              title=\"Convert this dataframe to an interactive table.\"\n",
              "              style=\"display:none;\">\n",
              "        \n",
              "  <svg xmlns=\"http://www.w3.org/2000/svg\" height=\"24px\"viewBox=\"0 0 24 24\"\n",
              "       width=\"24px\">\n",
              "    <path d=\"M0 0h24v24H0V0z\" fill=\"none\"/>\n",
              "    <path d=\"M18.56 5.44l.94 2.06.94-2.06 2.06-.94-2.06-.94-.94-2.06-.94 2.06-2.06.94zm-11 1L8.5 8.5l.94-2.06 2.06-.94-2.06-.94L8.5 2.5l-.94 2.06-2.06.94zm10 10l.94 2.06.94-2.06 2.06-.94-2.06-.94-.94-2.06-.94 2.06-2.06.94z\"/><path d=\"M17.41 7.96l-1.37-1.37c-.4-.4-.92-.59-1.43-.59-.52 0-1.04.2-1.43.59L10.3 9.45l-7.72 7.72c-.78.78-.78 2.05 0 2.83L4 21.41c.39.39.9.59 1.41.59.51 0 1.02-.2 1.41-.59l7.78-7.78 2.81-2.81c.8-.78.8-2.07 0-2.86zM5.41 20L4 18.59l7.72-7.72 1.47 1.35L5.41 20z\"/>\n",
              "  </svg>\n",
              "      </button>\n",
              "      \n",
              "  <style>\n",
              "    .colab-df-container {\n",
              "      display:flex;\n",
              "      flex-wrap:wrap;\n",
              "      gap: 12px;\n",
              "    }\n",
              "\n",
              "    .colab-df-convert {\n",
              "      background-color: #E8F0FE;\n",
              "      border: none;\n",
              "      border-radius: 50%;\n",
              "      cursor: pointer;\n",
              "      display: none;\n",
              "      fill: #1967D2;\n",
              "      height: 32px;\n",
              "      padding: 0 0 0 0;\n",
              "      width: 32px;\n",
              "    }\n",
              "\n",
              "    .colab-df-convert:hover {\n",
              "      background-color: #E2EBFA;\n",
              "      box-shadow: 0px 1px 2px rgba(60, 64, 67, 0.3), 0px 1px 3px 1px rgba(60, 64, 67, 0.15);\n",
              "      fill: #174EA6;\n",
              "    }\n",
              "\n",
              "    [theme=dark] .colab-df-convert {\n",
              "      background-color: #3B4455;\n",
              "      fill: #D2E3FC;\n",
              "    }\n",
              "\n",
              "    [theme=dark] .colab-df-convert:hover {\n",
              "      background-color: #434B5C;\n",
              "      box-shadow: 0px 1px 3px 1px rgba(0, 0, 0, 0.15);\n",
              "      filter: drop-shadow(0px 1px 2px rgba(0, 0, 0, 0.3));\n",
              "      fill: #FFFFFF;\n",
              "    }\n",
              "  </style>\n",
              "\n",
              "      <script>\n",
              "        const buttonEl =\n",
              "          document.querySelector('#df-9e9ed935-36d2-49c9-943d-c799f1007a93 button.colab-df-convert');\n",
              "        buttonEl.style.display =\n",
              "          google.colab.kernel.accessAllowed ? 'block' : 'none';\n",
              "\n",
              "        async function convertToInteractive(key) {\n",
              "          const element = document.querySelector('#df-9e9ed935-36d2-49c9-943d-c799f1007a93');\n",
              "          const dataTable =\n",
              "            await google.colab.kernel.invokeFunction('convertToInteractive',\n",
              "                                                     [key], {});\n",
              "          if (!dataTable) return;\n",
              "\n",
              "          const docLinkHtml = 'Like what you see? Visit the ' +\n",
              "            '<a target=\"_blank\" href=https://colab.research.google.com/notebooks/data_table.ipynb>data table notebook</a>'\n",
              "            + ' to learn more about interactive tables.';\n",
              "          element.innerHTML = '';\n",
              "          dataTable['output_type'] = 'display_data';\n",
              "          await google.colab.output.renderOutput(dataTable, element);\n",
              "          const docLink = document.createElement('div');\n",
              "          docLink.innerHTML = docLinkHtml;\n",
              "          element.appendChild(docLink);\n",
              "        }\n",
              "      </script>\n",
              "    </div>\n",
              "  </div>\n",
              "  "
            ]
          },
          "metadata": {},
          "execution_count": 27
        }
      ]
    },
    {
      "cell_type": "code",
      "source": [
        "plt.hist(portfolio_returns, density = True, bins = 100)\n",
        "\n",
        "plt.axvline(df.loc[0.01]['VaR'], color='r', linestyle='dashed',linewidth=1)\n",
        "plt.axvline(df.loc[0.1]['VaR'], color='g', linestyle='dashed',linewidth=1)\n",
        "plt.axvline(df.loc[1]['VaR'], color='b', linestyle='dashed',linewidth=1)\n",
        "plt.axvline(df.loc[2.5]['VaR'], color='y', linestyle='dashed',linewidth=1)\n",
        "plt.axvline(df.loc[5]['VaR'], color='c', linestyle='dashed',linewidth=1)\n",
        "plt.axvline(df.loc[10]['VaR'], color='k', linestyle='dashed',linewidth=1)\n",
        "\n",
        "plt.ylabel('Frequency')\n",
        "plt.xlabel('Daily Return')\n",
        "plt.grid(True,linewidth = 0.5)\n",
        "plt.show()"
      ],
      "metadata": {
        "colab": {
          "base_uri": "https://localhost:8080/",
          "height": 279
        },
        "id": "XE5tzBGg1RvO",
        "outputId": "eaffef95-9c36-47b6-b807-6b9767f6f499"
      },
      "execution_count": null,
      "outputs": [
        {
          "output_type": "display_data",
          "data": {
            "text/plain": [
              "<Figure size 432x288 with 1 Axes>"
            ],
            "image/png": "[encoded data removed]"
          },
          "metadata": {
            "needs_background": "light"
          }
        }
      ]
    },
    {
      "cell_type": "code",
      "source": [
        "num_days=10\n",
        "var_reg = df.loc[1.0]['VaR']*(num_days)**(1/2)\n",
        "var_reg"
      ],
      "metadata": {
        "colab": {
          "base_uri": "https://localhost:8080/"
        },
        "id": "-cv8jykL6s-T",
        "outputId": "2119ce83-0c4f-4e9c-8ebc-0089b5f703c0"
      },
      "execution_count": null,
      "outputs": [
        {
          "output_type": "execute_result",
          "data": {
            "text/plain": [
              "-0.16483914011140088"
            ]
          },
          "metadata": {},
          "execution_count": 49
        }
      ]
    },
    {
      "cell_type": "markdown",
      "source": [
        "We assume that distribution is stationary 10day. \n",
        "The regulary VaR is calculated as 99%VaR is 10*1day 99%VaR which is 16.48%"
      ],
      "metadata": {
        "id": "EFJvkmlX7aPb"
      }
    }
  ]
}