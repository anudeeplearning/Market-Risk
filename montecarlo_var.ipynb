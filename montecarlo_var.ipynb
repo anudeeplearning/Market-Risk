{
  "nbformat": 4,
  "nbformat_minor": 0,
  "metadata": {
    "colab": {
      "name": "montecarlo_var.ipynb",
      "provenance": [],
      "authorship_tag": "ABX9TyOsft6bMQ/HOlprpW2jcAcq",
      "include_colab_link": true
    },
    "kernelspec": {
      "name": "python3",
      "display_name": "Python 3"
    },
    "language_info": {
      "name": "python"
    }
  },
  "cells": [
    {
      "cell_type": "markdown",
      "metadata": {
        "id": "view-in-github",
        "colab_type": "text"
      },
      "source": [
        "<a href=\"https://colab.research.google.com/github/anudeeplearning/Market-Risk/blob/main/montecarlo_var.ipynb\" target=\"_parent\"><img src=\"https://colab.research.google.com/assets/colab-badge.svg\" alt=\"Open In Colab\"/></a>"
      ]
    },
    {
      "cell_type": "markdown",
      "source": [
        "We calculate the VaR using monte carlo simulation assuming a geometric brownian motion \n",
        "\n",
        "s(t+1) = s(t) *exp(d+a*r)\n",
        "\n",
        "d=(r-sigma*2/2)*dt\n",
        "\n",
        "a=sigma*sqrt(dt)"
      ],
      "metadata": {
        "id": "g6qpINCBZ6Xt"
      }
    },
    {
      "cell_type": "code",
      "execution_count": null,
      "metadata": {
        "id": "hGytl6HlZ0w_"
      },
      "outputs": [],
      "source": [
        "import datetime as dt, numpy as np, pandas as pd, matplotlib.pyplot as plt, scipy.stats as scs"
      ]
    },
    {
      "cell_type": "code",
      "source": [
        "n_sims = 1000000\n",
        "rfr = 0\n",
        "time = 30\n",
        "vol = 0.25\n",
        "S0 = 1"
      ],
      "metadata": {
        "id": "Z8E6PiCkazO-"
      },
      "execution_count": null,
      "outputs": []
    },
    {
      "cell_type": "code",
      "source": [
        "d = (rfr-0.5*vol**2)*(time/252)\n",
        "a = vol*np.sqrt(time/252)\n",
        "r=np.random.normal(0,1,(n_sims,1))\n",
        "\n",
        "GBM_returns = S0*np.exp(d + a*r)"
      ],
      "metadata": {
        "id": "_bg0RL8kbWaC"
      },
      "execution_count": null,
      "outputs": []
    },
    {
      "cell_type": "code",
      "source": [
        "GBM_returns"
      ],
      "metadata": {
        "colab": {
          "base_uri": "https://localhost:8080/"
        },
        "id": "hJnO6_Wnb7qG",
        "outputId": "94c5d8a5-54fe-4d48-b0ab-a2a783e54665"
      },
      "execution_count": null,
      "outputs": [
        {
          "output_type": "execute_result",
          "data": {
            "text/plain": [
              "array([[1.13102973],\n",
              "       [0.93907816],\n",
              "       [1.05294143],\n",
              "       ...,\n",
              "       [0.88350118],\n",
              "       [0.93231311],\n",
              "       [0.91853872]])"
            ]
          },
          "metadata": {},
          "execution_count": 20
        }
      ]
    },
    {
      "cell_type": "code",
      "source": [
        "confidence_intervals = [0.01,0.1,1.0,2.5,5.0,10.0]\n",
        "var = scs.scoreatpercentile(GBM_returns-1,confidence_intervals)"
      ],
      "metadata": {
        "id": "maN7yuWKcK2C"
      },
      "execution_count": null,
      "outputs": []
    },
    {
      "cell_type": "code",
      "source": [
        "df = pd.DataFrame(var, confidence_intervals,columns = ['VaR'])\n",
        "df"
      ],
      "metadata": {
        "colab": {
          "base_uri": "https://localhost:8080/",
          "height": 235
        },
        "id": "5hBgMczFcdS4",
        "outputId": "0b2c5928-3ea1-4e97-819e-1abc40b6dfb4"
      },
      "execution_count": null,
      "outputs": [
        {
          "output_type": "execute_result",
          "data": {
            "text/plain": [
              "            VaR\n",
              "0.01  -0.275475\n",
              "0.10  -0.236196\n",
              "1.00  -0.184524\n",
              "2.50  -0.158619\n",
              "5.00  -0.135561\n",
              "10.00 -0.108025"
            ],
            "text/html": [
              "\n",
              "  <div id=\"df-62909460-ca90-4376-98a2-d9c9c426975b\">\n",
              "    <div class=\"colab-df-container\">\n",
              "      <div>\n",
              "<style scoped>\n",
              "    .dataframe tbody tr th:only-of-type {\n",
              "        vertical-align: middle;\n",
              "    }\n",
              "\n",
              "    .dataframe tbody tr th {\n",
              "        vertical-align: top;\n",
              "    }\n",
              "\n",
              "    .dataframe thead th {\n",
              "        text-align: right;\n",
              "    }\n",
              "</style>\n",
              "<table border=\"1\" class=\"dataframe\">\n",
              "  <thead>\n",
              "    <tr style=\"text-align: right;\">\n",
              "      <th></th>\n",
              "      <th>VaR</th>\n",
              "    </tr>\n",
              "  </thead>\n",
              "  <tbody>\n",
              "    <tr>\n",
              "      <th>0.01</th>\n",
              "      <td>-0.275475</td>\n",
              "    </tr>\n",
              "    <tr>\n",
              "      <th>0.10</th>\n",
              "      <td>-0.236196</td>\n",
              "    </tr>\n",
              "    <tr>\n",
              "      <th>1.00</th>\n",
              "      <td>-0.184524</td>\n",
              "    </tr>\n",
              "    <tr>\n",
              "      <th>2.50</th>\n",
              "      <td>-0.158619</td>\n",
              "    </tr>\n",
              "    <tr>\n",
              "      <th>5.00</th>\n",
              "      <td>-0.135561</td>\n",
              "    </tr>\n",
              "    <tr>\n",
              "      <th>10.00</th>\n",
              "      <td>-0.108025</td>\n",
              "    </tr>\n",
              "  </tbody>\n",
              "</table>\n",
              "</div>\n",
              "      <button class=\"colab-df-convert\" onclick=\"convertToInteractive('df-62909460-ca90-4376-98a2-d9c9c426975b')\"\n",
              "              title=\"Convert this dataframe to an interactive table.\"\n",
              "              style=\"display:none;\">\n",
              "        \n",
              "  <svg xmlns=\"http://www.w3.org/2000/svg\" height=\"24px\"viewBox=\"0 0 24 24\"\n",
              "       width=\"24px\">\n",
              "    <path d=\"M0 0h24v24H0V0z\" fill=\"none\"/>\n",
              "    <path d=\"M18.56 5.44l.94 2.06.94-2.06 2.06-.94-2.06-.94-.94-2.06-.94 2.06-2.06.94zm-11 1L8.5 8.5l.94-2.06 2.06-.94-2.06-.94L8.5 2.5l-.94 2.06-2.06.94zm10 10l.94 2.06.94-2.06 2.06-.94-2.06-.94-.94-2.06-.94 2.06-2.06.94z\"/><path d=\"M17.41 7.96l-1.37-1.37c-.4-.4-.92-.59-1.43-.59-.52 0-1.04.2-1.43.59L10.3 9.45l-7.72 7.72c-.78.78-.78 2.05 0 2.83L4 21.41c.39.39.9.59 1.41.59.51 0 1.02-.2 1.41-.59l7.78-7.78 2.81-2.81c.8-.78.8-2.07 0-2.86zM5.41 20L4 18.59l7.72-7.72 1.47 1.35L5.41 20z\"/>\n",
              "  </svg>\n",
              "      </button>\n",
              "      \n",
              "  <style>\n",
              "    .colab-df-container {\n",
              "      display:flex;\n",
              "      flex-wrap:wrap;\n",
              "      gap: 12px;\n",
              "    }\n",
              "\n",
              "    .colab-df-convert {\n",
              "      background-color: #E8F0FE;\n",
              "      border: none;\n",
              "      border-radius: 50%;\n",
              "      cursor: pointer;\n",
              "      display: none;\n",
              "      fill: #1967D2;\n",
              "      height: 32px;\n",
              "      padding: 0 0 0 0;\n",
              "      width: 32px;\n",
              "    }\n",
              "\n",
              "    .colab-df-convert:hover {\n",
              "      background-color: #E2EBFA;\n",
              "      box-shadow: 0px 1px 2px rgba(60, 64, 67, 0.3), 0px 1px 3px 1px rgba(60, 64, 67, 0.15);\n",
              "      fill: #174EA6;\n",
              "    }\n",
              "\n",
              "    [theme=dark] .colab-df-convert {\n",
              "      background-color: #3B4455;\n",
              "      fill: #D2E3FC;\n",
              "    }\n",
              "\n",
              "    [theme=dark] .colab-df-convert:hover {\n",
              "      background-color: #434B5C;\n",
              "      box-shadow: 0px 1px 3px 1px rgba(0, 0, 0, 0.15);\n",
              "      filter: drop-shadow(0px 1px 2px rgba(0, 0, 0, 0.3));\n",
              "      fill: #FFFFFF;\n",
              "    }\n",
              "  </style>\n",
              "\n",
              "      <script>\n",
              "        const buttonEl =\n",
              "          document.querySelector('#df-62909460-ca90-4376-98a2-d9c9c426975b button.colab-df-convert');\n",
              "        buttonEl.style.display =\n",
              "          google.colab.kernel.accessAllowed ? 'block' : 'none';\n",
              "\n",
              "        async function convertToInteractive(key) {\n",
              "          const element = document.querySelector('#df-62909460-ca90-4376-98a2-d9c9c426975b');\n",
              "          const dataTable =\n",
              "            await google.colab.kernel.invokeFunction('convertToInteractive',\n",
              "                                                     [key], {});\n",
              "          if (!dataTable) return;\n",
              "\n",
              "          const docLinkHtml = 'Like what you see? Visit the ' +\n",
              "            '<a target=\"_blank\" href=https://colab.research.google.com/notebooks/data_table.ipynb>data table notebook</a>'\n",
              "            + ' to learn more about interactive tables.';\n",
              "          element.innerHTML = '';\n",
              "          dataTable['output_type'] = 'display_data';\n",
              "          await google.colab.output.renderOutput(dataTable, element);\n",
              "          const docLink = document.createElement('div');\n",
              "          docLink.innerHTML = docLinkHtml;\n",
              "          element.appendChild(docLink);\n",
              "        }\n",
              "      </script>\n",
              "    </div>\n",
              "  </div>\n",
              "  "
            ]
          },
          "metadata": {},
          "execution_count": 22
        }
      ]
    },
    {
      "cell_type": "code",
      "source": [
        "plt.hist(GBM_returns, density = True, bins = 100)\n",
        "\n",
        "plt.axvline(df.loc[0.01]['VaR']+1, color='r', linestyle='dashed',linewidth=1)\n",
        "plt.axvline(df.loc[0.1]['VaR']+1, color='g', linestyle='dashed',linewidth=1)\n",
        "plt.axvline(df.loc[1]['VaR']+1, color='b', linestyle='dashed',linewidth=1)\n",
        "plt.axvline(df.loc[2.5]['VaR']+1, color='y', linestyle='dashed',linewidth=1)\n",
        "plt.axvline(df.loc[5]['VaR']+1, color='c', linestyle='dashed',linewidth=1)\n",
        "plt.axvline(df.loc[10]['VaR']+1, color='k', linestyle='dashed',linewidth=1)\n",
        "\n",
        "plt.ylabel('Frequency')\n",
        "plt.xlabel('Daily Return')\n",
        "plt.grid(True,linewidth = 0.5)\n",
        "plt.show()"
      ],
      "metadata": {
        "colab": {
          "base_uri": "https://localhost:8080/",
          "height": 279
        },
        "id": "_OBJX0oacp-n",
        "outputId": "e3321dbd-40ff-4c47-e141-6fab0bf88909"
      },
      "execution_count": null,
      "outputs": [
        {
          "output_type": "display_data",
          "data": {
            "text/plain": [
              "<Figure size 432x288 with 1 Axes>"
            ],
            "image/png": "[encoded data removed]"
          },
          "metadata": {
            "needs_background": "light"
          }
        }
      ]
    },
    {
      "cell_type": "code",
      "source": [
        "num_days =10\n",
        "df.loc[1]['VaR'] * np.sqrt(num_days/30)"
      ],
      "metadata": {
        "colab": {
          "base_uri": "https://localhost:8080/"
        },
        "id": "3SyDfH4du-kK",
        "outputId": "545aaff6-3905-4367-9a11-6d5cbec14f47"
      },
      "execution_count": null,
      "outputs": [
        {
          "output_type": "execute_result",
          "data": {
            "text/plain": [
              "-0.10653481510321539"
            ]
          },
          "metadata": {},
          "execution_count": 25
        }
      ]
    },
    {
      "cell_type": "markdown",
      "source": [
        "For regulatory purposes, 99% VaR is calculated for 10 days which is 10.65%. 99%VaR for the whole 30 day period is 18.45%"
      ],
      "metadata": {
        "id": "waidWeVZvDSd"
      }
    }
  ]
}