{
  "nbformat": 4,
  "nbformat_minor": 0,
  "metadata": {
    "colab": {
      "name": "parametric_var.ipynb",
      "provenance": [],
      "authorship_tag": "ABX9TyNB414xGwh61iC09bSfd8vU",
      "include_colab_link": true
    },
    "kernelspec": {
      "name": "python3",
      "display_name": "Python 3"
    },
    "language_info": {
      "name": "python"
    }
  },
  "cells": [
    {
      "cell_type": "markdown",
      "metadata": {
        "id": "view-in-github",
        "colab_type": "text"
      },
      "source": [
        "<a href=\"https://colab.research.google.com/github/anudeeplearning/Market-Risk/blob/main/parametric_var.ipynb\" target=\"_parent\"><img src=\"https://colab.research.google.com/assets/colab-badge.svg\" alt=\"Open In Colab\"/></a>"
      ]
    },
    {
      "cell_type": "markdown",
      "source": [
        "We are calculating the VaR using parametric method also known as variance-covariance method for a loan portfolio. \n",
        "\n",
        "The parametric linear VaR model is only applicable to a portfolio whose return or P&L is a linear function of its risk factor returns or its asset returns. The most basic assumption in the model is that risk factor returns are normally distributed, and that their joint distribution is multivariate normal, so the covariance matrix of risk factor returns is all that is required to capture the dependency between the risk factor returns."
      ],
      "metadata": {
        "id": "TMDdZCEOZLA5"
      }
    },
    {
      "cell_type": "code",
      "execution_count": null,
      "metadata": {
        "colab": {
          "base_uri": "https://localhost:8080/"
        },
        "id": "qPxgXsfzF8j-",
        "outputId": "8968fc08-0ad0-4837-db4d-0621d75c8519"
      },
      "outputs": [
        {
          "output_type": "stream",
          "name": "stdout",
          "text": [
            "Looking in indexes: https://pypi.org/simple, https://us-python.pkg.dev/colab-wheels/public/simple/\n",
            "Collecting yfinance\n",
            "  Downloading yfinance-0.1.70-py2.py3-none-any.whl (26 kB)\n",
            "Collecting requests>=2.26\n",
            "  Downloading requests-2.27.1-py2.py3-none-any.whl (63 kB)\n",
            "\u001b[K     |████████████████████████████████| 63 kB 2.1 MB/s \n",
            "\u001b[?25hRequirement already satisfied: numpy>=1.15 in /usr/local/lib/python3.7/dist-packages (from yfinance) (1.21.6)\n",
            "Collecting lxml>=4.5.1\n",
            "  Downloading lxml-4.9.0-cp37-cp37m-manylinux_2_17_x86_64.manylinux2014_x86_64.manylinux_2_24_x86_64.whl (6.4 MB)\n",
            "\u001b[K     |████████████████████████████████| 6.4 MB 30.3 MB/s \n",
            "\u001b[?25hRequirement already satisfied: multitasking>=0.0.7 in /usr/local/lib/python3.7/dist-packages (from yfinance) (0.0.10)\n",
            "Requirement already satisfied: pandas>=0.24.0 in /usr/local/lib/python3.7/dist-packages (from yfinance) (1.3.5)\n",
            "Requirement already satisfied: python-dateutil>=2.7.3 in /usr/local/lib/python3.7/dist-packages (from pandas>=0.24.0->yfinance) (2.8.2)\n",
            "Requirement already satisfied: pytz>=2017.3 in /usr/local/lib/python3.7/dist-packages (from pandas>=0.24.0->yfinance) (2022.1)\n",
            "Requirement already satisfied: six>=1.5 in /usr/local/lib/python3.7/dist-packages (from python-dateutil>=2.7.3->pandas>=0.24.0->yfinance) (1.15.0)\n",
            "Requirement already satisfied: charset-normalizer~=2.0.0 in /usr/local/lib/python3.7/dist-packages (from requests>=2.26->yfinance) (2.0.12)\n",
            "Requirement already satisfied: urllib3<1.27,>=1.21.1 in /usr/local/lib/python3.7/dist-packages (from requests>=2.26->yfinance) (1.24.3)\n",
            "Requirement already satisfied: certifi>=2017.4.17 in /usr/local/lib/python3.7/dist-packages (from requests>=2.26->yfinance) (2022.5.18.1)\n",
            "Requirement already satisfied: idna<4,>=2.5 in /usr/local/lib/python3.7/dist-packages (from requests>=2.26->yfinance) (2.10)\n",
            "Installing collected packages: requests, lxml, yfinance\n",
            "  Attempting uninstall: requests\n",
            "    Found existing installation: requests 2.23.0\n",
            "    Uninstalling requests-2.23.0:\n",
            "      Successfully uninstalled requests-2.23.0\n",
            "  Attempting uninstall: lxml\n",
            "    Found existing installation: lxml 4.2.6\n",
            "    Uninstalling lxml-4.2.6:\n",
            "      Successfully uninstalled lxml-4.2.6\n",
            "\u001b[31mERROR: pip's dependency resolver does not currently take into account all the packages that are installed. This behaviour is the source of the following dependency conflicts.\n",
            "google-colab 1.0.0 requires requests~=2.23.0, but you have requests 2.27.1 which is incompatible.\n",
            "datascience 0.10.6 requires folium==0.2.1, but you have folium 0.8.3 which is incompatible.\u001b[0m\n",
            "Successfully installed lxml-4.9.0 requests-2.27.1 yfinance-0.1.70\n"
          ]
        }
      ],
      "source": [
        "pip install yfinance"
      ]
    },
    {
      "cell_type": "code",
      "source": [
        "import yfinance as yf, numpy as np, pandas as pd, datetime as dt, matplotlib.pyplot as plt\n",
        "from scipy.stats import norm"
      ],
      "metadata": {
        "id": "OF0rjFacGTcp"
      },
      "execution_count": null,
      "outputs": []
    },
    {
      "cell_type": "code",
      "source": [
        "tickers = ['AAPL', 'FB', 'C','DIS','F','MSFT','MS','GME','TSLA','AMZN']\n",
        "weights = np.array(10*[0.1])"
      ],
      "metadata": {
        "id": "zWIVOkKBGkeo"
      },
      "execution_count": null,
      "outputs": []
    },
    {
      "cell_type": "code",
      "source": [
        "start = dt.datetime(2019,1,1)\n",
        "end=dt.datetime.now()\n",
        "\n",
        "df=yf.download(tickers,start,end)['Adj Close']\n",
        "df"
      ],
      "metadata": {
        "colab": {
          "base_uri": "https://localhost:8080/",
          "height": 701
        },
        "id": "NNlNxpSoHCkC",
        "outputId": "bc9c22b6-9349-4db1-d95f-573585ed8a60"
      },
      "execution_count": null,
      "outputs": [
        {
          "output_type": "stream",
          "name": "stdout",
          "text": [
            "[*********************100%***********************]  10 of 10 completed\n"
          ]
        },
        {
          "output_type": "execute_result",
          "data": {
            "text/plain": [
              "                  AAPL         AMZN          C         DIS          F  \\\n",
              "Date                                                                    \n",
              "2019-01-02   38.221375  1539.130005  47.678246  107.654343   7.163055   \n",
              "2019-01-03   34.414238  1500.280029  46.814281  105.046211   7.054250   \n",
              "2019-01-04   35.883354  1575.390015  49.103336  108.286606   7.326263   \n",
              "2019-01-07   35.803486  1629.510010  49.530869  109.225136   7.516674   \n",
              "2019-01-08   36.486012  1656.579956  49.397259  110.074753   7.589211   \n",
              "...                ...          ...        ...         ...        ...   \n",
              "2022-05-26  143.779999  2221.550049  54.090000  105.610001  13.120000   \n",
              "2022-05-27  149.639999  2302.929932  53.619999  109.320000  13.630000   \n",
              "2022-05-31  148.839996  2404.189941  53.410000  110.440002  13.680000   \n",
              "2022-06-01  148.710007  2433.679932  52.389999  109.190002  13.550000   \n",
              "2022-06-02  151.210007  2510.219971  52.430000  110.870003  13.890000   \n",
              "\n",
              "                    FB         GME         MS        MSFT        TSLA  \n",
              "Date                                                                   \n",
              "2019-01-02  135.679993   12.641105  36.652779   97.353905   62.023998  \n",
              "2019-01-03  131.740005   12.544387  35.999557   93.772461   60.071999  \n",
              "2019-01-04  137.949997   14.739896  37.469307   98.133743   63.537998  \n",
              "2019-01-07  138.050003   14.972020  37.841282   98.258881   66.991997  \n",
              "2019-01-08  142.529999   15.291192  37.605396   98.971344   67.070000  \n",
              "...                ...         ...        ...         ...         ...  \n",
              "2022-05-26  191.630005  128.460007  85.000000  265.899994  707.729980  \n",
              "2022-05-27  195.130005  137.210007  86.449997  273.239990  759.630005  \n",
              "2022-05-31  193.639999  124.739998  86.139999  271.869995  758.260010  \n",
              "2022-06-01  188.639999  121.400002  85.000000  272.420013  740.369995  \n",
              "2022-06-02  198.860001  134.000000  85.199997  274.579987  775.000000  \n",
              "\n",
              "[862 rows x 10 columns]"
            ],
            "text/html": [
              "\n",
              "  <div id=\"df-be517fdf-bc7d-4542-9995-d6cdd63d82cc\">\n",
              "    <div class=\"colab-df-container\">\n",
              "      <div>\n",
              "<style scoped>\n",
              "    .dataframe tbody tr th:only-of-type {\n",
              "        vertical-align: middle;\n",
              "    }\n",
              "\n",
              "    .dataframe tbody tr th {\n",
              "        vertical-align: top;\n",
              "    }\n",
              "\n",
              "    .dataframe thead th {\n",
              "        text-align: right;\n",
              "    }\n",
              "</style>\n",
              "<table border=\"1\" class=\"dataframe\">\n",
              "  <thead>\n",
              "    <tr style=\"text-align: right;\">\n",
              "      <th></th>\n",
              "      <th>AAPL</th>\n",
              "      <th>AMZN</th>\n",
              "      <th>C</th>\n",
              "      <th>DIS</th>\n",
              "      <th>F</th>\n",
              "      <th>FB</th>\n",
              "      <th>GME</th>\n",
              "      <th>MS</th>\n",
              "      <th>MSFT</th>\n",
              "      <th>TSLA</th>\n",
              "    </tr>\n",
              "    <tr>\n",
              "      <th>Date</th>\n",
              "      <th></th>\n",
              "      <th></th>\n",
              "      <th></th>\n",
              "      <th></th>\n",
              "      <th></th>\n",
              "      <th></th>\n",
              "      <th></th>\n",
              "      <th></th>\n",
              "      <th></th>\n",
              "      <th></th>\n",
              "    </tr>\n",
              "  </thead>\n",
              "  <tbody>\n",
              "    <tr>\n",
              "      <th>2019-01-02</th>\n",
              "      <td>38.221375</td>\n",
              "      <td>1539.130005</td>\n",
              "      <td>47.678246</td>\n",
              "      <td>107.654343</td>\n",
              "      <td>7.163055</td>\n",
              "      <td>135.679993</td>\n",
              "      <td>12.641105</td>\n",
              "      <td>36.652779</td>\n",
              "      <td>97.353905</td>\n",
              "      <td>62.023998</td>\n",
              "    </tr>\n",
              "    <tr>\n",
              "      <th>2019-01-03</th>\n",
              "      <td>34.414238</td>\n",
              "      <td>1500.280029</td>\n",
              "      <td>46.814281</td>\n",
              "      <td>105.046211</td>\n",
              "      <td>7.054250</td>\n",
              "      <td>131.740005</td>\n",
              "      <td>12.544387</td>\n",
              "      <td>35.999557</td>\n",
              "      <td>93.772461</td>\n",
              "      <td>60.071999</td>\n",
              "    </tr>\n",
              "    <tr>\n",
              "      <th>2019-01-04</th>\n",
              "      <td>35.883354</td>\n",
              "      <td>1575.390015</td>\n",
              "      <td>49.103336</td>\n",
              "      <td>108.286606</td>\n",
              "      <td>7.326263</td>\n",
              "      <td>137.949997</td>\n",
              "      <td>14.739896</td>\n",
              "      <td>37.469307</td>\n",
              "      <td>98.133743</td>\n",
              "      <td>63.537998</td>\n",
              "    </tr>\n",
              "    <tr>\n",
              "      <th>2019-01-07</th>\n",
              "      <td>35.803486</td>\n",
              "      <td>1629.510010</td>\n",
              "      <td>49.530869</td>\n",
              "      <td>109.225136</td>\n",
              "      <td>7.516674</td>\n",
              "      <td>138.050003</td>\n",
              "      <td>14.972020</td>\n",
              "      <td>37.841282</td>\n",
              "      <td>98.258881</td>\n",
              "      <td>66.991997</td>\n",
              "    </tr>\n",
              "    <tr>\n",
              "      <th>2019-01-08</th>\n",
              "      <td>36.486012</td>\n",
              "      <td>1656.579956</td>\n",
              "      <td>49.397259</td>\n",
              "      <td>110.074753</td>\n",
              "      <td>7.589211</td>\n",
              "      <td>142.529999</td>\n",
              "      <td>15.291192</td>\n",
              "      <td>37.605396</td>\n",
              "      <td>98.971344</td>\n",
              "      <td>67.070000</td>\n",
              "    </tr>\n",
              "    <tr>\n",
              "      <th>...</th>\n",
              "      <td>...</td>\n",
              "      <td>...</td>\n",
              "      <td>...</td>\n",
              "      <td>...</td>\n",
              "      <td>...</td>\n",
              "      <td>...</td>\n",
              "      <td>...</td>\n",
              "      <td>...</td>\n",
              "      <td>...</td>\n",
              "      <td>...</td>\n",
              "    </tr>\n",
              "    <tr>\n",
              "      <th>2022-05-26</th>\n",
              "      <td>143.779999</td>\n",
              "      <td>2221.550049</td>\n",
              "      <td>54.090000</td>\n",
              "      <td>105.610001</td>\n",
              "      <td>13.120000</td>\n",
              "      <td>191.630005</td>\n",
              "      <td>128.460007</td>\n",
              "      <td>85.000000</td>\n",
              "      <td>265.899994</td>\n",
              "      <td>707.729980</td>\n",
              "    </tr>\n",
              "    <tr>\n",
              "      <th>2022-05-27</th>\n",
              "      <td>149.639999</td>\n",
              "      <td>2302.929932</td>\n",
              "      <td>53.619999</td>\n",
              "      <td>109.320000</td>\n",
              "      <td>13.630000</td>\n",
              "      <td>195.130005</td>\n",
              "      <td>137.210007</td>\n",
              "      <td>86.449997</td>\n",
              "      <td>273.239990</td>\n",
              "      <td>759.630005</td>\n",
              "    </tr>\n",
              "    <tr>\n",
              "      <th>2022-05-31</th>\n",
              "      <td>148.839996</td>\n",
              "      <td>2404.189941</td>\n",
              "      <td>53.410000</td>\n",
              "      <td>110.440002</td>\n",
              "      <td>13.680000</td>\n",
              "      <td>193.639999</td>\n",
              "      <td>124.739998</td>\n",
              "      <td>86.139999</td>\n",
              "      <td>271.869995</td>\n",
              "      <td>758.260010</td>\n",
              "    </tr>\n",
              "    <tr>\n",
              "      <th>2022-06-01</th>\n",
              "      <td>148.710007</td>\n",
              "      <td>2433.679932</td>\n",
              "      <td>52.389999</td>\n",
              "      <td>109.190002</td>\n",
              "      <td>13.550000</td>\n",
              "      <td>188.639999</td>\n",
              "      <td>121.400002</td>\n",
              "      <td>85.000000</td>\n",
              "      <td>272.420013</td>\n",
              "      <td>740.369995</td>\n",
              "    </tr>\n",
              "    <tr>\n",
              "      <th>2022-06-02</th>\n",
              "      <td>151.210007</td>\n",
              "      <td>2510.219971</td>\n",
              "      <td>52.430000</td>\n",
              "      <td>110.870003</td>\n",
              "      <td>13.890000</td>\n",
              "      <td>198.860001</td>\n",
              "      <td>134.000000</td>\n",
              "      <td>85.199997</td>\n",
              "      <td>274.579987</td>\n",
              "      <td>775.000000</td>\n",
              "    </tr>\n",
              "  </tbody>\n",
              "</table>\n",
              "<p>862 rows × 10 columns</p>\n",
              "</div>\n",
              "      <button class=\"colab-df-convert\" onclick=\"convertToInteractive('df-be517fdf-bc7d-4542-9995-d6cdd63d82cc')\"\n",
              "              title=\"Convert this dataframe to an interactive table.\"\n",
              "              style=\"display:none;\">\n",
              "        \n",
              "  <svg xmlns=\"http://www.w3.org/2000/svg\" height=\"24px\"viewBox=\"0 0 24 24\"\n",
              "       width=\"24px\">\n",
              "    <path d=\"M0 0h24v24H0V0z\" fill=\"none\"/>\n",
              "    <path d=\"M18.56 5.44l.94 2.06.94-2.06 2.06-.94-2.06-.94-.94-2.06-.94 2.06-2.06.94zm-11 1L8.5 8.5l.94-2.06 2.06-.94-2.06-.94L8.5 2.5l-.94 2.06-2.06.94zm10 10l.94 2.06.94-2.06 2.06-.94-2.06-.94-.94-2.06-.94 2.06-2.06.94z\"/><path d=\"M17.41 7.96l-1.37-1.37c-.4-.4-.92-.59-1.43-.59-.52 0-1.04.2-1.43.59L10.3 9.45l-7.72 7.72c-.78.78-.78 2.05 0 2.83L4 21.41c.39.39.9.59 1.41.59.51 0 1.02-.2 1.41-.59l7.78-7.78 2.81-2.81c.8-.78.8-2.07 0-2.86zM5.41 20L4 18.59l7.72-7.72 1.47 1.35L5.41 20z\"/>\n",
              "  </svg>\n",
              "      </button>\n",
              "      \n",
              "  <style>\n",
              "    .colab-df-container {\n",
              "      display:flex;\n",
              "      flex-wrap:wrap;\n",
              "      gap: 12px;\n",
              "    }\n",
              "\n",
              "    .colab-df-convert {\n",
              "      background-color: #E8F0FE;\n",
              "      border: none;\n",
              "      border-radius: 50%;\n",
              "      cursor: pointer;\n",
              "      display: none;\n",
              "      fill: #1967D2;\n",
              "      height: 32px;\n",
              "      padding: 0 0 0 0;\n",
              "      width: 32px;\n",
              "    }\n",
              "\n",
              "    .colab-df-convert:hover {\n",
              "      background-color: #E2EBFA;\n",
              "      box-shadow: 0px 1px 2px rgba(60, 64, 67, 0.3), 0px 1px 3px 1px rgba(60, 64, 67, 0.15);\n",
              "      fill: #174EA6;\n",
              "    }\n",
              "\n",
              "    [theme=dark] .colab-df-convert {\n",
              "      background-color: #3B4455;\n",
              "      fill: #D2E3FC;\n",
              "    }\n",
              "\n",
              "    [theme=dark] .colab-df-convert:hover {\n",
              "      background-color: #434B5C;\n",
              "      box-shadow: 0px 1px 3px 1px rgba(0, 0, 0, 0.15);\n",
              "      filter: drop-shadow(0px 1px 2px rgba(0, 0, 0, 0.3));\n",
              "      fill: #FFFFFF;\n",
              "    }\n",
              "  </style>\n",
              "\n",
              "      <script>\n",
              "        const buttonEl =\n",
              "          document.querySelector('#df-be517fdf-bc7d-4542-9995-d6cdd63d82cc button.colab-df-convert');\n",
              "        buttonEl.style.display =\n",
              "          google.colab.kernel.accessAllowed ? 'block' : 'none';\n",
              "\n",
              "        async function convertToInteractive(key) {\n",
              "          const element = document.querySelector('#df-be517fdf-bc7d-4542-9995-d6cdd63d82cc');\n",
              "          const dataTable =\n",
              "            await google.colab.kernel.invokeFunction('convertToInteractive',\n",
              "                                                     [key], {});\n",
              "          if (!dataTable) return;\n",
              "\n",
              "          const docLinkHtml = 'Like what you see? Visit the ' +\n",
              "            '<a target=\"_blank\" href=https://colab.research.google.com/notebooks/data_table.ipynb>data table notebook</a>'\n",
              "            + ' to learn more about interactive tables.';\n",
              "          element.innerHTML = '';\n",
              "          dataTable['output_type'] = 'display_data';\n",
              "          await google.colab.output.renderOutput(dataTable, element);\n",
              "          const docLink = document.createElement('div');\n",
              "          docLink.innerHTML = docLinkHtml;\n",
              "          element.appendChild(docLink);\n",
              "        }\n",
              "      </script>\n",
              "    </div>\n",
              "  </div>\n",
              "  "
            ]
          },
          "metadata": {},
          "execution_count": 6
        }
      ]
    },
    {
      "cell_type": "code",
      "source": [
        "returns = df.pct_change()"
      ],
      "metadata": {
        "id": "Qjq7pVgoHnGl"
      },
      "execution_count": null,
      "outputs": []
    },
    {
      "cell_type": "code",
      "source": [
        "returns"
      ],
      "metadata": {
        "colab": {
          "base_uri": "https://localhost:8080/",
          "height": 684
        },
        "id": "8seSk_DPHveQ",
        "outputId": "55b0d3ea-28eb-4f53-9dbf-5490d1fe4d5a"
      },
      "execution_count": null,
      "outputs": [
        {
          "output_type": "execute_result",
          "data": {
            "text/plain": [
              "                AAPL      AMZN         C       DIS         F        FB  \\\n",
              "Date                                                                     \n",
              "2019-01-02       NaN       NaN       NaN       NaN       NaN       NaN   \n",
              "2019-01-03 -0.099608 -0.025242 -0.018121 -0.024227 -0.015190 -0.029039   \n",
              "2019-01-04  0.042689  0.050064  0.048897  0.030847  0.038560  0.047138   \n",
              "2019-01-07 -0.002226  0.034353  0.008707  0.008667  0.025990  0.000725   \n",
              "2019-01-08  0.019063  0.016612 -0.002698  0.007779  0.009650  0.032452   \n",
              "...              ...       ...       ...       ...       ...       ...   \n",
              "2022-05-26  0.023200  0.040295  0.026376  0.022758  0.032258  0.042431   \n",
              "2022-05-27  0.040757  0.036632 -0.008689  0.035129  0.038872  0.018264   \n",
              "2022-05-31 -0.005346  0.043970 -0.003916  0.010245  0.003668 -0.007636   \n",
              "2022-06-01 -0.000873  0.012266 -0.019098 -0.011318 -0.009503 -0.025821   \n",
              "2022-06-02  0.016811  0.031450  0.000764  0.015386  0.025092  0.054177   \n",
              "\n",
              "                 GME        MS      MSFT      TSLA  \n",
              "Date                                                \n",
              "2019-01-02       NaN       NaN       NaN       NaN  \n",
              "2019-01-03 -0.007651 -0.017822 -0.036788 -0.031472  \n",
              "2019-01-04  0.175019  0.040827  0.046509  0.057697  \n",
              "2019-01-07  0.015748  0.009927  0.001275  0.054361  \n",
              "2019-01-08  0.021318 -0.006234  0.007251  0.001164  \n",
              "...              ...       ...       ...       ...  \n",
              "2022-05-26  0.115395  0.033686  0.012875  0.074271  \n",
              "2022-05-27  0.068115  0.017059  0.027604  0.073333  \n",
              "2022-05-31 -0.090883 -0.003586 -0.005014 -0.001804  \n",
              "2022-06-01 -0.026776 -0.013234  0.002023 -0.023594  \n",
              "2022-06-02  0.103789  0.002353  0.007929  0.046774  \n",
              "\n",
              "[862 rows x 10 columns]"
            ],
            "text/html": [
              "\n",
              "  <div id=\"df-3c969417-31eb-4ce4-a40b-9bb49f2828fb\">\n",
              "    <div class=\"colab-df-container\">\n",
              "      <div>\n",
              "<style scoped>\n",
              "    .dataframe tbody tr th:only-of-type {\n",
              "        vertical-align: middle;\n",
              "    }\n",
              "\n",
              "    .dataframe tbody tr th {\n",
              "        vertical-align: top;\n",
              "    }\n",
              "\n",
              "    .dataframe thead th {\n",
              "        text-align: right;\n",
              "    }\n",
              "</style>\n",
              "<table border=\"1\" class=\"dataframe\">\n",
              "  <thead>\n",
              "    <tr style=\"text-align: right;\">\n",
              "      <th></th>\n",
              "      <th>AAPL</th>\n",
              "      <th>AMZN</th>\n",
              "      <th>C</th>\n",
              "      <th>DIS</th>\n",
              "      <th>F</th>\n",
              "      <th>FB</th>\n",
              "      <th>GME</th>\n",
              "      <th>MS</th>\n",
              "      <th>MSFT</th>\n",
              "      <th>TSLA</th>\n",
              "    </tr>\n",
              "    <tr>\n",
              "      <th>Date</th>\n",
              "      <th></th>\n",
              "      <th></th>\n",
              "      <th></th>\n",
              "      <th></th>\n",
              "      <th></th>\n",
              "      <th></th>\n",
              "      <th></th>\n",
              "      <th></th>\n",
              "      <th></th>\n",
              "      <th></th>\n",
              "    </tr>\n",
              "  </thead>\n",
              "  <tbody>\n",
              "    <tr>\n",
              "      <th>2019-01-02</th>\n",
              "      <td>NaN</td>\n",
              "      <td>NaN</td>\n",
              "      <td>NaN</td>\n",
              "      <td>NaN</td>\n",
              "      <td>NaN</td>\n",
              "      <td>NaN</td>\n",
              "      <td>NaN</td>\n",
              "      <td>NaN</td>\n",
              "      <td>NaN</td>\n",
              "      <td>NaN</td>\n",
              "    </tr>\n",
              "    <tr>\n",
              "      <th>2019-01-03</th>\n",
              "      <td>-0.099608</td>\n",
              "      <td>-0.025242</td>\n",
              "      <td>-0.018121</td>\n",
              "      <td>-0.024227</td>\n",
              "      <td>-0.015190</td>\n",
              "      <td>-0.029039</td>\n",
              "      <td>-0.007651</td>\n",
              "      <td>-0.017822</td>\n",
              "      <td>-0.036788</td>\n",
              "      <td>-0.031472</td>\n",
              "    </tr>\n",
              "    <tr>\n",
              "      <th>2019-01-04</th>\n",
              "      <td>0.042689</td>\n",
              "      <td>0.050064</td>\n",
              "      <td>0.048897</td>\n",
              "      <td>0.030847</td>\n",
              "      <td>0.038560</td>\n",
              "      <td>0.047138</td>\n",
              "      <td>0.175019</td>\n",
              "      <td>0.040827</td>\n",
              "      <td>0.046509</td>\n",
              "      <td>0.057697</td>\n",
              "    </tr>\n",
              "    <tr>\n",
              "      <th>2019-01-07</th>\n",
              "      <td>-0.002226</td>\n",
              "      <td>0.034353</td>\n",
              "      <td>0.008707</td>\n",
              "      <td>0.008667</td>\n",
              "      <td>0.025990</td>\n",
              "      <td>0.000725</td>\n",
              "      <td>0.015748</td>\n",
              "      <td>0.009927</td>\n",
              "      <td>0.001275</td>\n",
              "      <td>0.054361</td>\n",
              "    </tr>\n",
              "    <tr>\n",
              "      <th>2019-01-08</th>\n",
              "      <td>0.019063</td>\n",
              "      <td>0.016612</td>\n",
              "      <td>-0.002698</td>\n",
              "      <td>0.007779</td>\n",
              "      <td>0.009650</td>\n",
              "      <td>0.032452</td>\n",
              "      <td>0.021318</td>\n",
              "      <td>-0.006234</td>\n",
              "      <td>0.007251</td>\n",
              "      <td>0.001164</td>\n",
              "    </tr>\n",
              "    <tr>\n",
              "      <th>...</th>\n",
              "      <td>...</td>\n",
              "      <td>...</td>\n",
              "      <td>...</td>\n",
              "      <td>...</td>\n",
              "      <td>...</td>\n",
              "      <td>...</td>\n",
              "      <td>...</td>\n",
              "      <td>...</td>\n",
              "      <td>...</td>\n",
              "      <td>...</td>\n",
              "    </tr>\n",
              "    <tr>\n",
              "      <th>2022-05-26</th>\n",
              "      <td>0.023200</td>\n",
              "      <td>0.040295</td>\n",
              "      <td>0.026376</td>\n",
              "      <td>0.022758</td>\n",
              "      <td>0.032258</td>\n",
              "      <td>0.042431</td>\n",
              "      <td>0.115395</td>\n",
              "      <td>0.033686</td>\n",
              "      <td>0.012875</td>\n",
              "      <td>0.074271</td>\n",
              "    </tr>\n",
              "    <tr>\n",
              "      <th>2022-05-27</th>\n",
              "      <td>0.040757</td>\n",
              "      <td>0.036632</td>\n",
              "      <td>-0.008689</td>\n",
              "      <td>0.035129</td>\n",
              "      <td>0.038872</td>\n",
              "      <td>0.018264</td>\n",
              "      <td>0.068115</td>\n",
              "      <td>0.017059</td>\n",
              "      <td>0.027604</td>\n",
              "      <td>0.073333</td>\n",
              "    </tr>\n",
              "    <tr>\n",
              "      <th>2022-05-31</th>\n",
              "      <td>-0.005346</td>\n",
              "      <td>0.043970</td>\n",
              "      <td>-0.003916</td>\n",
              "      <td>0.010245</td>\n",
              "      <td>0.003668</td>\n",
              "      <td>-0.007636</td>\n",
              "      <td>-0.090883</td>\n",
              "      <td>-0.003586</td>\n",
              "      <td>-0.005014</td>\n",
              "      <td>-0.001804</td>\n",
              "    </tr>\n",
              "    <tr>\n",
              "      <th>2022-06-01</th>\n",
              "      <td>-0.000873</td>\n",
              "      <td>0.012266</td>\n",
              "      <td>-0.019098</td>\n",
              "      <td>-0.011318</td>\n",
              "      <td>-0.009503</td>\n",
              "      <td>-0.025821</td>\n",
              "      <td>-0.026776</td>\n",
              "      <td>-0.013234</td>\n",
              "      <td>0.002023</td>\n",
              "      <td>-0.023594</td>\n",
              "    </tr>\n",
              "    <tr>\n",
              "      <th>2022-06-02</th>\n",
              "      <td>0.016811</td>\n",
              "      <td>0.031450</td>\n",
              "      <td>0.000764</td>\n",
              "      <td>0.015386</td>\n",
              "      <td>0.025092</td>\n",
              "      <td>0.054177</td>\n",
              "      <td>0.103789</td>\n",
              "      <td>0.002353</td>\n",
              "      <td>0.007929</td>\n",
              "      <td>0.046774</td>\n",
              "    </tr>\n",
              "  </tbody>\n",
              "</table>\n",
              "<p>862 rows × 10 columns</p>\n",
              "</div>\n",
              "      <button class=\"colab-df-convert\" onclick=\"convertToInteractive('df-3c969417-31eb-4ce4-a40b-9bb49f2828fb')\"\n",
              "              title=\"Convert this dataframe to an interactive table.\"\n",
              "              style=\"display:none;\">\n",
              "        \n",
              "  <svg xmlns=\"http://www.w3.org/2000/svg\" height=\"24px\"viewBox=\"0 0 24 24\"\n",
              "       width=\"24px\">\n",
              "    <path d=\"M0 0h24v24H0V0z\" fill=\"none\"/>\n",
              "    <path d=\"M18.56 5.44l.94 2.06.94-2.06 2.06-.94-2.06-.94-.94-2.06-.94 2.06-2.06.94zm-11 1L8.5 8.5l.94-2.06 2.06-.94-2.06-.94L8.5 2.5l-.94 2.06-2.06.94zm10 10l.94 2.06.94-2.06 2.06-.94-2.06-.94-.94-2.06-.94 2.06-2.06.94z\"/><path d=\"M17.41 7.96l-1.37-1.37c-.4-.4-.92-.59-1.43-.59-.52 0-1.04.2-1.43.59L10.3 9.45l-7.72 7.72c-.78.78-.78 2.05 0 2.83L4 21.41c.39.39.9.59 1.41.59.51 0 1.02-.2 1.41-.59l7.78-7.78 2.81-2.81c.8-.78.8-2.07 0-2.86zM5.41 20L4 18.59l7.72-7.72 1.47 1.35L5.41 20z\"/>\n",
              "  </svg>\n",
              "      </button>\n",
              "      \n",
              "  <style>\n",
              "    .colab-df-container {\n",
              "      display:flex;\n",
              "      flex-wrap:wrap;\n",
              "      gap: 12px;\n",
              "    }\n",
              "\n",
              "    .colab-df-convert {\n",
              "      background-color: #E8F0FE;\n",
              "      border: none;\n",
              "      border-radius: 50%;\n",
              "      cursor: pointer;\n",
              "      display: none;\n",
              "      fill: #1967D2;\n",
              "      height: 32px;\n",
              "      padding: 0 0 0 0;\n",
              "      width: 32px;\n",
              "    }\n",
              "\n",
              "    .colab-df-convert:hover {\n",
              "      background-color: #E2EBFA;\n",
              "      box-shadow: 0px 1px 2px rgba(60, 64, 67, 0.3), 0px 1px 3px 1px rgba(60, 64, 67, 0.15);\n",
              "      fill: #174EA6;\n",
              "    }\n",
              "\n",
              "    [theme=dark] .colab-df-convert {\n",
              "      background-color: #3B4455;\n",
              "      fill: #D2E3FC;\n",
              "    }\n",
              "\n",
              "    [theme=dark] .colab-df-convert:hover {\n",
              "      background-color: #434B5C;\n",
              "      box-shadow: 0px 1px 3px 1px rgba(0, 0, 0, 0.15);\n",
              "      filter: drop-shadow(0px 1px 2px rgba(0, 0, 0, 0.3));\n",
              "      fill: #FFFFFF;\n",
              "    }\n",
              "  </style>\n",
              "\n",
              "      <script>\n",
              "        const buttonEl =\n",
              "          document.querySelector('#df-3c969417-31eb-4ce4-a40b-9bb49f2828fb button.colab-df-convert');\n",
              "        buttonEl.style.display =\n",
              "          google.colab.kernel.accessAllowed ? 'block' : 'none';\n",
              "\n",
              "        async function convertToInteractive(key) {\n",
              "          const element = document.querySelector('#df-3c969417-31eb-4ce4-a40b-9bb49f2828fb');\n",
              "          const dataTable =\n",
              "            await google.colab.kernel.invokeFunction('convertToInteractive',\n",
              "                                                     [key], {});\n",
              "          if (!dataTable) return;\n",
              "\n",
              "          const docLinkHtml = 'Like what you see? Visit the ' +\n",
              "            '<a target=\"_blank\" href=https://colab.research.google.com/notebooks/data_table.ipynb>data table notebook</a>'\n",
              "            + ' to learn more about interactive tables.';\n",
              "          element.innerHTML = '';\n",
              "          dataTable['output_type'] = 'display_data';\n",
              "          await google.colab.output.renderOutput(dataTable, element);\n",
              "          const docLink = document.createElement('div');\n",
              "          docLink.innerHTML = docLinkHtml;\n",
              "          element.appendChild(docLink);\n",
              "        }\n",
              "      </script>\n",
              "    </div>\n",
              "  </div>\n",
              "  "
            ]
          },
          "metadata": {},
          "execution_count": 8
        }
      ]
    },
    {
      "cell_type": "code",
      "source": [
        "cov_matrix = returns.cov()\n",
        "cov_matrix"
      ],
      "metadata": {
        "colab": {
          "base_uri": "https://localhost:8080/",
          "height": 423
        },
        "id": "5oZLwGUBH1cT",
        "outputId": "72ff39a3-aa34-45f4-d801-2765de6c2f01"
      },
      "execution_count": null,
      "outputs": [
        {
          "output_type": "execute_result",
          "data": {
            "text/plain": [
              "          AAPL      AMZN         C       DIS         F        FB       GME  \\\n",
              "AAPL  0.000466  0.000290  0.000270  0.000210  0.000228  0.000345  0.000327   \n",
              "AMZN  0.000290  0.000440  0.000156  0.000171  0.000135  0.000336  0.000246   \n",
              "C     0.000270  0.000156  0.000723  0.000363  0.000458  0.000249  0.000466   \n",
              "DIS   0.000210  0.000171  0.000363  0.000466  0.000309  0.000233  0.000231   \n",
              "F     0.000228  0.000135  0.000458  0.000309  0.000796  0.000219  0.000527   \n",
              "FB    0.000345  0.000336  0.000249  0.000233  0.000219  0.000663  0.000247   \n",
              "GME   0.000327  0.000246  0.000466  0.000231  0.000527  0.000247  0.011450   \n",
              "MS    0.000282  0.000173  0.000546  0.000325  0.000414  0.000257  0.000291   \n",
              "MSFT  0.000328  0.000281  0.000249  0.000211  0.000194  0.000322  0.000229   \n",
              "TSLA  0.000440  0.000389  0.000346  0.000271  0.000374  0.000399  0.000700   \n",
              "\n",
              "            MS      MSFT      TSLA  \n",
              "AAPL  0.000282  0.000328  0.000440  \n",
              "AMZN  0.000173  0.000281  0.000389  \n",
              "C     0.000546  0.000249  0.000346  \n",
              "DIS   0.000325  0.000211  0.000271  \n",
              "F     0.000414  0.000194  0.000374  \n",
              "FB    0.000257  0.000322  0.000399  \n",
              "GME   0.000291  0.000229  0.000700  \n",
              "MS    0.000586  0.000264  0.000309  \n",
              "MSFT  0.000264  0.000381  0.000395  \n",
              "TSLA  0.000309  0.000395  0.001823  "
            ],
            "text/html": [
              "\n",
              "  <div id=\"df-89343899-6f3a-45f0-a280-902fa0e020b8\">\n",
              "    <div class=\"colab-df-container\">\n",
              "      <div>\n",
              "<style scoped>\n",
              "    .dataframe tbody tr th:only-of-type {\n",
              "        vertical-align: middle;\n",
              "    }\n",
              "\n",
              "    .dataframe tbody tr th {\n",
              "        vertical-align: top;\n",
              "    }\n",
              "\n",
              "    .dataframe thead th {\n",
              "        text-align: right;\n",
              "    }\n",
              "</style>\n",
              "<table border=\"1\" class=\"dataframe\">\n",
              "  <thead>\n",
              "    <tr style=\"text-align: right;\">\n",
              "      <th></th>\n",
              "      <th>AAPL</th>\n",
              "      <th>AMZN</th>\n",
              "      <th>C</th>\n",
              "      <th>DIS</th>\n",
              "      <th>F</th>\n",
              "      <th>FB</th>\n",
              "      <th>GME</th>\n",
              "      <th>MS</th>\n",
              "      <th>MSFT</th>\n",
              "      <th>TSLA</th>\n",
              "    </tr>\n",
              "  </thead>\n",
              "  <tbody>\n",
              "    <tr>\n",
              "      <th>AAPL</th>\n",
              "      <td>0.000466</td>\n",
              "      <td>0.000290</td>\n",
              "      <td>0.000270</td>\n",
              "      <td>0.000210</td>\n",
              "      <td>0.000228</td>\n",
              "      <td>0.000345</td>\n",
              "      <td>0.000327</td>\n",
              "      <td>0.000282</td>\n",
              "      <td>0.000328</td>\n",
              "      <td>0.000440</td>\n",
              "    </tr>\n",
              "    <tr>\n",
              "      <th>AMZN</th>\n",
              "      <td>0.000290</td>\n",
              "      <td>0.000440</td>\n",
              "      <td>0.000156</td>\n",
              "      <td>0.000171</td>\n",
              "      <td>0.000135</td>\n",
              "      <td>0.000336</td>\n",
              "      <td>0.000246</td>\n",
              "      <td>0.000173</td>\n",
              "      <td>0.000281</td>\n",
              "      <td>0.000389</td>\n",
              "    </tr>\n",
              "    <tr>\n",
              "      <th>C</th>\n",
              "      <td>0.000270</td>\n",
              "      <td>0.000156</td>\n",
              "      <td>0.000723</td>\n",
              "      <td>0.000363</td>\n",
              "      <td>0.000458</td>\n",
              "      <td>0.000249</td>\n",
              "      <td>0.000466</td>\n",
              "      <td>0.000546</td>\n",
              "      <td>0.000249</td>\n",
              "      <td>0.000346</td>\n",
              "    </tr>\n",
              "    <tr>\n",
              "      <th>DIS</th>\n",
              "      <td>0.000210</td>\n",
              "      <td>0.000171</td>\n",
              "      <td>0.000363</td>\n",
              "      <td>0.000466</td>\n",
              "      <td>0.000309</td>\n",
              "      <td>0.000233</td>\n",
              "      <td>0.000231</td>\n",
              "      <td>0.000325</td>\n",
              "      <td>0.000211</td>\n",
              "      <td>0.000271</td>\n",
              "    </tr>\n",
              "    <tr>\n",
              "      <th>F</th>\n",
              "      <td>0.000228</td>\n",
              "      <td>0.000135</td>\n",
              "      <td>0.000458</td>\n",
              "      <td>0.000309</td>\n",
              "      <td>0.000796</td>\n",
              "      <td>0.000219</td>\n",
              "      <td>0.000527</td>\n",
              "      <td>0.000414</td>\n",
              "      <td>0.000194</td>\n",
              "      <td>0.000374</td>\n",
              "    </tr>\n",
              "    <tr>\n",
              "      <th>FB</th>\n",
              "      <td>0.000345</td>\n",
              "      <td>0.000336</td>\n",
              "      <td>0.000249</td>\n",
              "      <td>0.000233</td>\n",
              "      <td>0.000219</td>\n",
              "      <td>0.000663</td>\n",
              "      <td>0.000247</td>\n",
              "      <td>0.000257</td>\n",
              "      <td>0.000322</td>\n",
              "      <td>0.000399</td>\n",
              "    </tr>\n",
              "    <tr>\n",
              "      <th>GME</th>\n",
              "      <td>0.000327</td>\n",
              "      <td>0.000246</td>\n",
              "      <td>0.000466</td>\n",
              "      <td>0.000231</td>\n",
              "      <td>0.000527</td>\n",
              "      <td>0.000247</td>\n",
              "      <td>0.011450</td>\n",
              "      <td>0.000291</td>\n",
              "      <td>0.000229</td>\n",
              "      <td>0.000700</td>\n",
              "    </tr>\n",
              "    <tr>\n",
              "      <th>MS</th>\n",
              "      <td>0.000282</td>\n",
              "      <td>0.000173</td>\n",
              "      <td>0.000546</td>\n",
              "      <td>0.000325</td>\n",
              "      <td>0.000414</td>\n",
              "      <td>0.000257</td>\n",
              "      <td>0.000291</td>\n",
              "      <td>0.000586</td>\n",
              "      <td>0.000264</td>\n",
              "      <td>0.000309</td>\n",
              "    </tr>\n",
              "    <tr>\n",
              "      <th>MSFT</th>\n",
              "      <td>0.000328</td>\n",
              "      <td>0.000281</td>\n",
              "      <td>0.000249</td>\n",
              "      <td>0.000211</td>\n",
              "      <td>0.000194</td>\n",
              "      <td>0.000322</td>\n",
              "      <td>0.000229</td>\n",
              "      <td>0.000264</td>\n",
              "      <td>0.000381</td>\n",
              "      <td>0.000395</td>\n",
              "    </tr>\n",
              "    <tr>\n",
              "      <th>TSLA</th>\n",
              "      <td>0.000440</td>\n",
              "      <td>0.000389</td>\n",
              "      <td>0.000346</td>\n",
              "      <td>0.000271</td>\n",
              "      <td>0.000374</td>\n",
              "      <td>0.000399</td>\n",
              "      <td>0.000700</td>\n",
              "      <td>0.000309</td>\n",
              "      <td>0.000395</td>\n",
              "      <td>0.001823</td>\n",
              "    </tr>\n",
              "  </tbody>\n",
              "</table>\n",
              "</div>\n",
              "      <button class=\"colab-df-convert\" onclick=\"convertToInteractive('df-89343899-6f3a-45f0-a280-902fa0e020b8')\"\n",
              "              title=\"Convert this dataframe to an interactive table.\"\n",
              "              style=\"display:none;\">\n",
              "        \n",
              "  <svg xmlns=\"http://www.w3.org/2000/svg\" height=\"24px\"viewBox=\"0 0 24 24\"\n",
              "       width=\"24px\">\n",
              "    <path d=\"M0 0h24v24H0V0z\" fill=\"none\"/>\n",
              "    <path d=\"M18.56 5.44l.94 2.06.94-2.06 2.06-.94-2.06-.94-.94-2.06-.94 2.06-2.06.94zm-11 1L8.5 8.5l.94-2.06 2.06-.94-2.06-.94L8.5 2.5l-.94 2.06-2.06.94zm10 10l.94 2.06.94-2.06 2.06-.94-2.06-.94-.94-2.06-.94 2.06-2.06.94z\"/><path d=\"M17.41 7.96l-1.37-1.37c-.4-.4-.92-.59-1.43-.59-.52 0-1.04.2-1.43.59L10.3 9.45l-7.72 7.72c-.78.78-.78 2.05 0 2.83L4 21.41c.39.39.9.59 1.41.59.51 0 1.02-.2 1.41-.59l7.78-7.78 2.81-2.81c.8-.78.8-2.07 0-2.86zM5.41 20L4 18.59l7.72-7.72 1.47 1.35L5.41 20z\"/>\n",
              "  </svg>\n",
              "      </button>\n",
              "      \n",
              "  <style>\n",
              "    .colab-df-container {\n",
              "      display:flex;\n",
              "      flex-wrap:wrap;\n",
              "      gap: 12px;\n",
              "    }\n",
              "\n",
              "    .colab-df-convert {\n",
              "      background-color: #E8F0FE;\n",
              "      border: none;\n",
              "      border-radius: 50%;\n",
              "      cursor: pointer;\n",
              "      display: none;\n",
              "      fill: #1967D2;\n",
              "      height: 32px;\n",
              "      padding: 0 0 0 0;\n",
              "      width: 32px;\n",
              "    }\n",
              "\n",
              "    .colab-df-convert:hover {\n",
              "      background-color: #E2EBFA;\n",
              "      box-shadow: 0px 1px 2px rgba(60, 64, 67, 0.3), 0px 1px 3px 1px rgba(60, 64, 67, 0.15);\n",
              "      fill: #174EA6;\n",
              "    }\n",
              "\n",
              "    [theme=dark] .colab-df-convert {\n",
              "      background-color: #3B4455;\n",
              "      fill: #D2E3FC;\n",
              "    }\n",
              "\n",
              "    [theme=dark] .colab-df-convert:hover {\n",
              "      background-color: #434B5C;\n",
              "      box-shadow: 0px 1px 3px 1px rgba(0, 0, 0, 0.15);\n",
              "      filter: drop-shadow(0px 1px 2px rgba(0, 0, 0, 0.3));\n",
              "      fill: #FFFFFF;\n",
              "    }\n",
              "  </style>\n",
              "\n",
              "      <script>\n",
              "        const buttonEl =\n",
              "          document.querySelector('#df-89343899-6f3a-45f0-a280-902fa0e020b8 button.colab-df-convert');\n",
              "        buttonEl.style.display =\n",
              "          google.colab.kernel.accessAllowed ? 'block' : 'none';\n",
              "\n",
              "        async function convertToInteractive(key) {\n",
              "          const element = document.querySelector('#df-89343899-6f3a-45f0-a280-902fa0e020b8');\n",
              "          const dataTable =\n",
              "            await google.colab.kernel.invokeFunction('convertToInteractive',\n",
              "                                                     [key], {});\n",
              "          if (!dataTable) return;\n",
              "\n",
              "          const docLinkHtml = 'Like what you see? Visit the ' +\n",
              "            '<a target=\"_blank\" href=https://colab.research.google.com/notebooks/data_table.ipynb>data table notebook</a>'\n",
              "            + ' to learn more about interactive tables.';\n",
              "          element.innerHTML = '';\n",
              "          dataTable['output_type'] = 'display_data';\n",
              "          await google.colab.output.renderOutput(dataTable, element);\n",
              "          const docLink = document.createElement('div');\n",
              "          docLink.innerHTML = docLinkHtml;\n",
              "          element.appendChild(docLink);\n",
              "        }\n",
              "      </script>\n",
              "    </div>\n",
              "  </div>\n",
              "  "
            ]
          },
          "metadata": {},
          "execution_count": 9
        }
      ]
    },
    {
      "cell_type": "code",
      "source": [
        "type(cov_matrix)"
      ],
      "metadata": {
        "colab": {
          "base_uri": "https://localhost:8080/"
        },
        "id": "g8nnlcLTxZIL",
        "outputId": "d2dbfcae-d7ec-4ca8-b4c1-5a4e48a98386"
      },
      "execution_count": null,
      "outputs": [
        {
          "output_type": "execute_result",
          "data": {
            "text/plain": [
              "pandas.core.frame.DataFrame"
            ]
          },
          "metadata": {},
          "execution_count": 58
        }
      ]
    },
    {
      "cell_type": "code",
      "source": [
        "avg_returns = returns.mean()\n",
        "avg_returns"
      ],
      "metadata": {
        "colab": {
          "base_uri": "https://localhost:8080/"
        },
        "id": "2koaoGBMICcA",
        "outputId": "bc7fec9b-33fa-4d5f-a131-2baeda50be28"
      },
      "execution_count": null,
      "outputs": [
        {
          "output_type": "execute_result",
          "data": {
            "text/plain": [
              "AAPL    0.001832\n",
              "AMZN    0.000789\n",
              "C       0.000474\n",
              "DIS     0.000265\n",
              "F       0.001162\n",
              "FB      0.000783\n",
              "GME     0.007572\n",
              "MS      0.001271\n",
              "MSFT    0.001396\n",
              "TSLA    0.003847\n",
              "dtype: float64"
            ]
          },
          "metadata": {},
          "execution_count": 10
        }
      ]
    },
    {
      "cell_type": "code",
      "source": [
        "count = returns.count()[0]\n",
        "count"
      ],
      "metadata": {
        "colab": {
          "base_uri": "https://localhost:8080/"
        },
        "id": "IngkaEVgINSw",
        "outputId": "30797538-e89e-4744-c1d1-55fbea7b4ae4"
      },
      "execution_count": null,
      "outputs": [
        {
          "output_type": "execute_result",
          "data": {
            "text/plain": [
              "861"
            ]
          },
          "metadata": {},
          "execution_count": 12
        }
      ]
    },
    {
      "cell_type": "code",
      "source": [
        "port_mean = avg_returns @ weights\n",
        "port_std = np.sqrt(weights.T @cov_matrix @ weights)"
      ],
      "metadata": {
        "id": "iNEhDp97IUCk"
      },
      "execution_count": null,
      "outputs": []
    },
    {
      "cell_type": "code",
      "source": [
        "port_mean"
      ],
      "metadata": {
        "colab": {
          "base_uri": "https://localhost:8080/"
        },
        "id": "pz3dvgN9I8gI",
        "outputId": "df0674e4-d7d4-4d6e-bd46-5a55e965fd33"
      },
      "execution_count": null,
      "outputs": [
        {
          "output_type": "execute_result",
          "data": {
            "text/plain": [
              "0.0019390381443523423"
            ]
          },
          "metadata": {},
          "execution_count": 14
        }
      ]
    },
    {
      "cell_type": "code",
      "source": [
        "port_std"
      ],
      "metadata": {
        "colab": {
          "base_uri": "https://localhost:8080/"
        },
        "id": "OcZz8uZyJBaw",
        "outputId": "8ae41cc7-c0b1-496a-81bc-8f7f9ad07700"
      },
      "execution_count": null,
      "outputs": [
        {
          "output_type": "execute_result",
          "data": {
            "text/plain": [
              "0.021402077068679092"
            ]
          },
          "metadata": {},
          "execution_count": 15
        }
      ]
    },
    {
      "cell_type": "code",
      "source": [
        "x = np.arange(-.075,0.075, 0.001)\n",
        "norm_dist = norm.pdf(x,port_mean,port_std)\n",
        "\n",
        "plt.plot(x,norm_dist,color = 'r')\n",
        "plt.show()"
      ],
      "metadata": {
        "colab": {
          "base_uri": "https://localhost:8080/",
          "height": 265
        },
        "id": "jAi5ValQJD2N",
        "outputId": "f1722ece-c339-4570-85e2-7214b1a08d14"
      },
      "execution_count": null,
      "outputs": [
        {
          "output_type": "display_data",
          "data": {
            "text/plain": [
              "<Figure size 432x288 with 1 Axes>"
            ],
            "image/png": "[encoded data removed]"
          },
          "metadata": {
            "needs_background": "light"
          }
        }
      ]
    },
    {
      "cell_type": "code",
      "source": [
        "confidence_interval = 0.05\n",
        "\n",
        "VaR = norm.ppf(confidence_interval, port_mean, port_std)\n",
        "VaR"
      ],
      "metadata": {
        "colab": {
          "base_uri": "https://localhost:8080/"
        },
        "id": "TLVekrOLKXtq",
        "outputId": "2403b9ab-289a-4d24-bbe0-0ede55ff90c5"
      },
      "execution_count": null,
      "outputs": [
        {
          "output_type": "execute_result",
          "data": {
            "text/plain": [
              "-0.03326424594635941"
            ]
          },
          "metadata": {},
          "execution_count": 45
        }
      ]
    },
    {
      "cell_type": "code",
      "source": [
        "confidence_intervals = [0.01,0.1,1.0,2.5,5.0,10.0]\n",
        "var = [norm.ppf(i/100,port_mean,port_std) for i in confidence_intervals]"
      ],
      "metadata": {
        "id": "2X_YdS8de-_r"
      },
      "execution_count": null,
      "outputs": []
    },
    {
      "cell_type": "code",
      "source": [
        "var"
      ],
      "metadata": {
        "colab": {
          "base_uri": "https://localhost:8080/"
        },
        "id": "LxNv_B1xseuZ",
        "outputId": "e582dd8c-e7f7-4083-ae60-2e27fbf4eb94"
      },
      "execution_count": null,
      "outputs": [
        {
          "output_type": "execute_result",
          "data": {
            "text/plain": [
              "[-0.07765563929705818,\n",
              " -0.06419835183237313,\n",
              " -0.04784963834442749,\n",
              " -0.04000826210460926,\n",
              " -0.03326424594635941,\n",
              " -0.025488827228919538]"
            ]
          },
          "metadata": {},
          "execution_count": 51
        }
      ]
    },
    {
      "cell_type": "code",
      "source": [
        "df = pd.DataFrame(var, confidence_intervals,columns = ['VaR'])"
      ],
      "metadata": {
        "id": "FrVYIPV1fZ-a"
      },
      "execution_count": null,
      "outputs": []
    },
    {
      "cell_type": "code",
      "source": [
        "plt.plot(x, norm_dist, color='k')\n",
        "\n",
        "plt.axvline(df.loc[0.01]['VaR'], color='r', linestyle='dashed',linewidth=1)\n",
        "plt.axvline(df.loc[0.1]['VaR'], color='g', linestyle='dashed',linewidth=1)\n",
        "plt.axvline(df.loc[1]['VaR'], color='b', linestyle='dashed',linewidth=1)\n",
        "plt.axvline(df.loc[2.5]['VaR'], color='y', linestyle='dashed',linewidth=1)\n",
        "plt.axvline(df.loc[5]['VaR'], color='c', linestyle='dashed',linewidth=1)\n",
        "plt.axvline(df.loc[10]['VaR'], color='k', linestyle='dashed',linewidth=1)\n",
        "\n",
        "plt.ylabel('Frequuency')\n",
        "plt.xlabel('Daily Return')\n",
        "plt.grid(True,linewidth = 0.5)\n",
        "plt.show()"
      ],
      "metadata": {
        "colab": {
          "base_uri": "https://localhost:8080/",
          "height": 279
        },
        "id": "sw-L4Nh-fcx1",
        "outputId": "08257525-58c6-48d3-cab8-caa8968910a3"
      },
      "execution_count": null,
      "outputs": [
        {
          "output_type": "display_data",
          "data": {
            "text/plain": [
              "<Figure size 432x288 with 1 Axes>"
            ],
            "image/png": "[encoded data removed]"
          },
          "metadata": {
            "needs_background": "light"
          }
        }
      ]
    },
    {
      "cell_type": "code",
      "source": [
        "num_days =10\n",
        "df.loc[1]['VaR'] * np.sqrt(num_days)"
      ],
      "metadata": {
        "colab": {
          "base_uri": "https://localhost:8080/"
        },
        "id": "9G7EwqVmKqIB",
        "outputId": "941bed22-3b93-4acb-d302-1b5bbc10cf50"
      },
      "execution_count": null,
      "outputs": [
        {
          "output_type": "execute_result",
          "data": {
            "text/plain": [
              "-0.15131384238371934"
            ]
          },
          "metadata": {},
          "execution_count": 57
        }
      ]
    },
    {
      "cell_type": "markdown",
      "source": [
        "Regulators require 10 day 99VaR. We can see that the 10day 99VaR for the loan portfolio is -15.13%"
      ],
      "metadata": {
        "id": "0veYf8O6uUD3"
      }
    }
  ]
}